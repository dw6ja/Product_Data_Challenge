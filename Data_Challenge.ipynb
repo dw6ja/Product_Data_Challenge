{
 "cells": [
  {
   "cell_type": "markdown",
   "metadata": {},
   "source": [
    "# _Data Exercise_\n",
    "\n",
    "This is a four-part data challenges taken from online questions designed to answer common-day problems existed in the field of Data Science. In this project I used multiple tools including dataframe operations, regression analysis, machine learning models, dimension reduction, etc. \n",
    "\n",
    "With detailed explanations of each question, the audience can be guided to walk through the process of every step of the analysis. Enjoy!\n"
   ]
  },
  {
   "cell_type": "markdown",
   "metadata": {},
   "source": [
    "## Author: Diyang Wu"
   ]
  },
  {
   "cell_type": "markdown",
   "metadata": {},
   "source": [
    "## Part 1:\n",
    "\n",
    "\n",
    "### Question\n",
    "\n",
    "Arielle and Boris are two chefs competing for flipping pancakes.\n",
    "\n",
    "The stats from this season are attached in `part1.csv`. The columns are: \n",
    "\n",
    "- the contestant's name, \n",
    "- the match day, \n",
    "- which hand they used to flip the pancakes, \n",
    "- their score (how many pancakes they flipped successfully), and \n",
    "- how many total pancakes they attempted to flip\n",
    "\n",
    "Is Arielle or Boris the better pancake flipper? Do both sides have a case here?"
   ]
  },
  {
   "cell_type": "markdown",
   "metadata": {},
   "source": [
    "### Answer\n",
    "\n",
    "For this problem, we are interested in identifying the better flipper between Arielle and Boris. We will first calculate some simple statistics to better understand the problem. Then we will determine what tools to be used further to make the conclusion."
   ]
  },
  {
   "cell_type": "code",
   "execution_count": 61,
   "metadata": {},
   "outputs": [],
   "source": [
    "# import useful libraries\n",
    "import numpy as np\n",
    "import pandas as pd\n",
    "import matplotlib.pyplot as plt\n",
    "import seaborn as sns\n",
    "from scipy.stats import chisquare\n",
    "import statsmodels.api as sm\n",
    "from sklearn.decomposition import PCA\n",
    "from sklearn.preprocessing import StandardScaler\n",
    "from sklearn.model_selection import train_test_split\n",
    "from sklearn.linear_model import LinearRegression\n",
    "from sklearn.metrics import mean_squared_error\n",
    "from sklearn.metrics import r2_score\n",
    "from sklearn.model_selection import RandomizedSearchCV\n",
    "from sklearn.ensemble import RandomForestRegressor\n",
    "from sklearn.linear_model import Lasso\n",
    "from sklearn.linear_model import Ridge"
   ]
  },
  {
   "cell_type": "markdown",
   "metadata": {},
   "source": [
    "### 1.1 Read Data"
   ]
  },
  {
   "cell_type": "code",
   "execution_count": 2,
   "metadata": {},
   "outputs": [
    {
     "data": {
      "text/html": [
       "<div>\n",
       "<style scoped>\n",
       "    .dataframe tbody tr th:only-of-type {\n",
       "        vertical-align: middle;\n",
       "    }\n",
       "\n",
       "    .dataframe tbody tr th {\n",
       "        vertical-align: top;\n",
       "    }\n",
       "\n",
       "    .dataframe thead th {\n",
       "        text-align: right;\n",
       "    }\n",
       "</style>\n",
       "<table border=\"1\" class=\"dataframe\">\n",
       "  <thead>\n",
       "    <tr style=\"text-align: right;\">\n",
       "      <th></th>\n",
       "      <th>match_day</th>\n",
       "      <th>name</th>\n",
       "      <th>hand</th>\n",
       "      <th>score</th>\n",
       "      <th>attempts</th>\n",
       "    </tr>\n",
       "  </thead>\n",
       "  <tbody>\n",
       "    <tr>\n",
       "      <th>0</th>\n",
       "      <td>1</td>\n",
       "      <td>Arielle</td>\n",
       "      <td>R</td>\n",
       "      <td>8</td>\n",
       "      <td>20</td>\n",
       "    </tr>\n",
       "    <tr>\n",
       "      <th>1</th>\n",
       "      <td>2</td>\n",
       "      <td>Arielle</td>\n",
       "      <td>R</td>\n",
       "      <td>10</td>\n",
       "      <td>20</td>\n",
       "    </tr>\n",
       "    <tr>\n",
       "      <th>2</th>\n",
       "      <td>3</td>\n",
       "      <td>Arielle</td>\n",
       "      <td>R</td>\n",
       "      <td>6</td>\n",
       "      <td>20</td>\n",
       "    </tr>\n",
       "    <tr>\n",
       "      <th>3</th>\n",
       "      <td>4</td>\n",
       "      <td>Arielle</td>\n",
       "      <td>L</td>\n",
       "      <td>4</td>\n",
       "      <td>20</td>\n",
       "    </tr>\n",
       "    <tr>\n",
       "      <th>4</th>\n",
       "      <td>5</td>\n",
       "      <td>Arielle</td>\n",
       "      <td>R</td>\n",
       "      <td>7</td>\n",
       "      <td>20</td>\n",
       "    </tr>\n",
       "  </tbody>\n",
       "</table>\n",
       "</div>"
      ],
      "text/plain": [
       "   match_day     name hand  score  attempts\n",
       "0          1  Arielle    R      8        20\n",
       "1          2  Arielle    R     10        20\n",
       "2          3  Arielle    R      6        20\n",
       "3          4  Arielle    L      4        20\n",
       "4          5  Arielle    R      7        20"
      ]
     },
     "execution_count": 2,
     "metadata": {},
     "output_type": "execute_result"
    }
   ],
   "source": [
    "# 1.1 Read data:\n",
    "pancake = pd.read_csv('coding_exercise_data/part1.csv')\n",
    "pancake.head()"
   ]
  },
  {
   "cell_type": "markdown",
   "metadata": {},
   "source": [
    "### 1.2 Basic statistics and interpretations"
   ]
  },
  {
   "cell_type": "code",
   "execution_count": 3,
   "metadata": {},
   "outputs": [
    {
     "data": {
      "text/plain": [
       "50"
      ]
     },
     "execution_count": 3,
     "metadata": {},
     "output_type": "execute_result"
    }
   ],
   "source": [
    "# 1.2 Calculation of basic stats to understand the problems:\n",
    "pancake[pancake['name'] == 'Arielle'].shape[0]\n",
    "pancake[pancake['name'] == 'Boris'].shape[0]\n",
    "\n",
    "# There are 50 samples for each of Arielle and Boris"
   ]
  },
  {
   "cell_type": "code",
   "execution_count": 4,
   "metadata": {},
   "outputs": [
    {
     "data": {
      "text/plain": [
       "0.341"
      ]
     },
     "execution_count": 4,
     "metadata": {},
     "output_type": "execute_result"
    }
   ],
   "source": [
    "# Average success rates for Arielle\n",
    "avg_prob_A = sum(pancake[pancake['name'] == 'Arielle']['score']) / sum(pancake[pancake['name'] == 'Arielle']['attempts'])\n",
    "avg_prob_A"
   ]
  },
  {
   "cell_type": "code",
   "execution_count": 5,
   "metadata": {},
   "outputs": [
    {
     "data": {
      "text/plain": [
       "0.338"
      ]
     },
     "execution_count": 5,
     "metadata": {},
     "output_type": "execute_result"
    }
   ],
   "source": [
    "# Average success rates for Boris\n",
    "avg_prob_B = sum(pancake[pancake['name'] == 'Boris']['score']) / sum(pancake[pancake['name'] == 'Boris']['attempts'])\n",
    "avg_prob_B"
   ]
  },
  {
   "cell_type": "markdown",
   "metadata": {},
   "source": [
    "So now, we have the average rates of successfully flipping the pancakes, which are 0.341 and 0.338 for Arielle and Boris, respectively. However, these two rates are extremely close, making it hard to judge whether Arielle or Boris is a significantly better flipper. In order to further decide who the better flipper is, we need to employ some statistical tests."
   ]
  },
  {
   "cell_type": "markdown",
   "metadata": {},
   "source": [
    "### 1.3 Chi-square test\n",
    "\n",
    "Notice that the number of samples for each group, in this case number of pancake flipping days for each person, is 50, which means that this is a balanced dataset. Also notice that on each day, each person performs 20 attempts, and their successes at flipping are recorded. Thus on each day, the pancake flipping trial can be deemed as a Bionomial distribution. We can employ Chi-square distribution to compare these two different success rates."
   ]
  },
  {
   "cell_type": "markdown",
   "metadata": {},
   "source": [
    "The hypothesis test can be formed as followed:\n",
    "\n",
    "$p_a$: the average success rates of flipping pancakes for Arielle\n",
    "\n",
    "$p_b$: the average success rates of flipping pancakes for Boris\n",
    "\n",
    "$H_0: p_a = p_b$\n",
    "\n",
    "$H_1: p_a \\neq p_b$"
   ]
  },
  {
   "cell_type": "code",
   "execution_count": 6,
   "metadata": {},
   "outputs": [
    {
     "data": {
      "text/plain": [
       "Power_divergenceResult(statistic=0.020067806889724055, pvalue=0.9992484539876503)"
      ]
     },
     "execution_count": 6,
     "metadata": {},
     "output_type": "execute_result"
    }
   ],
   "source": [
    "# 1.3 Perform the chi-sqaure test\n",
    "ttl_trial =  sum(pancake['attempts'])\n",
    "ttl_suc = sum(pancake['score'])\n",
    "ttl_fail = ttl_trial - ttl_suc\n",
    "AR_suc = sum(pancake[pancake['name'] == 'Arielle']['score'])\n",
    "BR_suc = sum(pancake[pancake['name'] == 'Boris']['score'])\n",
    "\n",
    "f_obs = [AR_suc, 50*20-AR_suc, BR_suc, 50*20-BR_suc]\n",
    "f_exp = (np.array([50*20] * 4) * np.array([ttl_suc, ttl_fail] * 2)) / ttl_trial\n",
    "chisquare(f_obs, f_exp)\n"
   ]
  },
  {
   "cell_type": "markdown",
   "metadata": {},
   "source": [
    "As we can see from the output, the p-value is very close to 1, meaning that the probability of obtaining the observed results of the test, assuming that the null hypothesis is true, is very high. If we set our $\\alpha$, significance level at 0.05, we reject the null hypothesis and conclude  that there is no significant difference between Arielle and Boris in flipping the pancake."
   ]
  },
  {
   "cell_type": "markdown",
   "metadata": {},
   "source": [
    "### 1.4 Linear regression to include `hand` variable\n",
    "\n",
    "However, one thing to be noticed is that there is another variable included in the dataset called `hand`. It prompts me to think that maybe Arielle or Boris has a preferred hand of flipping pancakes, leading to better performance. \n",
    "\n",
    "So I build two linear regression models below on both Arielle and Boris' individual group data to see if they are significantly better with left/right hand. Linear regression is utilized here because it's easier for interpretations."
   ]
  },
  {
   "cell_type": "code",
   "execution_count": 7,
   "metadata": {},
   "outputs": [
    {
     "data": {
      "text/html": [
       "<table class=\"simpletable\">\n",
       "<caption>OLS Regression Results</caption>\n",
       "<tr>\n",
       "  <th>Dep. Variable:</th>          <td>score</td>      <th>  R-squared:         </th> <td>   0.292</td>\n",
       "</tr>\n",
       "<tr>\n",
       "  <th>Model:</th>                   <td>OLS</td>       <th>  Adj. R-squared:    </th> <td>   0.277</td>\n",
       "</tr>\n",
       "<tr>\n",
       "  <th>Method:</th>             <td>Least Squares</td>  <th>  F-statistic:       </th> <td>   19.80</td>\n",
       "</tr>\n",
       "<tr>\n",
       "  <th>Date:</th>             <td>Mon, 10 Feb 2020</td> <th>  Prob (F-statistic):</th> <td>5.10e-05</td>\n",
       "</tr>\n",
       "<tr>\n",
       "  <th>Time:</th>                 <td>21:04:57</td>     <th>  Log-Likelihood:    </th> <td> -107.05</td>\n",
       "</tr>\n",
       "<tr>\n",
       "  <th>No. Observations:</th>      <td>    50</td>      <th>  AIC:               </th> <td>   218.1</td>\n",
       "</tr>\n",
       "<tr>\n",
       "  <th>Df Residuals:</th>          <td>    48</td>      <th>  BIC:               </th> <td>   221.9</td>\n",
       "</tr>\n",
       "<tr>\n",
       "  <th>Df Model:</th>              <td>     1</td>      <th>                     </th>     <td> </td>   \n",
       "</tr>\n",
       "<tr>\n",
       "  <th>Covariance Type:</th>      <td>nonrobust</td>    <th>                     </th>     <td> </td>   \n",
       "</tr>\n",
       "</table>\n",
       "<table class=\"simpletable\">\n",
       "<tr>\n",
       "      <td></td>        <th>coef</th>     <th>std err</th>      <th>t</th>      <th>P>|t|</th>  <th>[0.025</th>    <th>0.975]</th>  \n",
       "</tr>\n",
       "<tr>\n",
       "  <th>const</th>    <td>    4.8000</td> <td>    0.543</td> <td>    8.847</td> <td> 0.000</td> <td>    3.709</td> <td>    5.891</td>\n",
       "</tr>\n",
       "<tr>\n",
       "  <th>hand_cat</th> <td>    2.8857</td> <td>    0.648</td> <td>    4.450</td> <td> 0.000</td> <td>    1.582</td> <td>    4.190</td>\n",
       "</tr>\n",
       "</table>\n",
       "<table class=\"simpletable\">\n",
       "<tr>\n",
       "  <th>Omnibus:</th>       <td> 0.638</td> <th>  Durbin-Watson:     </th> <td>   2.259</td>\n",
       "</tr>\n",
       "<tr>\n",
       "  <th>Prob(Omnibus):</th> <td> 0.727</td> <th>  Jarque-Bera (JB):  </th> <td>   0.321</td>\n",
       "</tr>\n",
       "<tr>\n",
       "  <th>Skew:</th>          <td>-0.195</td> <th>  Prob(JB):          </th> <td>   0.852</td>\n",
       "</tr>\n",
       "<tr>\n",
       "  <th>Kurtosis:</th>      <td> 3.049</td> <th>  Cond. No.          </th> <td>    3.42</td>\n",
       "</tr>\n",
       "</table><br/><br/>Warnings:<br/>[1] Standard Errors assume that the covariance matrix of the errors is correctly specified."
      ],
      "text/plain": [
       "<class 'statsmodels.iolib.summary.Summary'>\n",
       "\"\"\"\n",
       "                            OLS Regression Results                            \n",
       "==============================================================================\n",
       "Dep. Variable:                  score   R-squared:                       0.292\n",
       "Model:                            OLS   Adj. R-squared:                  0.277\n",
       "Method:                 Least Squares   F-statistic:                     19.80\n",
       "Date:                Mon, 10 Feb 2020   Prob (F-statistic):           5.10e-05\n",
       "Time:                        21:04:57   Log-Likelihood:                -107.05\n",
       "No. Observations:                  50   AIC:                             218.1\n",
       "Df Residuals:                      48   BIC:                             221.9\n",
       "Df Model:                           1                                         \n",
       "Covariance Type:            nonrobust                                         \n",
       "==============================================================================\n",
       "                 coef    std err          t      P>|t|      [0.025      0.975]\n",
       "------------------------------------------------------------------------------\n",
       "const          4.8000      0.543      8.847      0.000       3.709       5.891\n",
       "hand_cat       2.8857      0.648      4.450      0.000       1.582       4.190\n",
       "==============================================================================\n",
       "Omnibus:                        0.638   Durbin-Watson:                   2.259\n",
       "Prob(Omnibus):                  0.727   Jarque-Bera (JB):                0.321\n",
       "Skew:                          -0.195   Prob(JB):                        0.852\n",
       "Kurtosis:                       3.049   Cond. No.                         3.42\n",
       "==============================================================================\n",
       "\n",
       "Warnings:\n",
       "[1] Standard Errors assume that the covariance matrix of the errors is correctly specified.\n",
       "\"\"\""
      ]
     },
     "execution_count": 7,
     "metadata": {},
     "output_type": "execute_result"
    }
   ],
   "source": [
    "# 1.4 Using linear regression to judge if `hand` is important.\n",
    "# encode the categorical variable 'hand'. L is 0 and R is 1.\n",
    "pancake['hand_cat'] = pancake['hand'].astype('category').cat.codes\n",
    "\n",
    "# linear regression for Arielle\n",
    "x_AR = sm.add_constant(pancake[pancake['name'] == 'Arielle'][['hand_cat']])\n",
    "y_AR = pancake[pancake['name'] == 'Arielle'][['score']]\n",
    "lr1 = sm.OLS(y_AR, x_AR).fit()\n",
    "lr1.summary()"
   ]
  },
  {
   "cell_type": "code",
   "execution_count": 72,
   "metadata": {},
   "outputs": [
    {
     "data": {
      "text/html": [
       "<table class=\"simpletable\">\n",
       "<caption>OLS Regression Results</caption>\n",
       "<tr>\n",
       "  <th>Dep. Variable:</th>          <td>score</td>      <th>  R-squared:         </th> <td>   0.397</td>\n",
       "</tr>\n",
       "<tr>\n",
       "  <th>Model:</th>                   <td>OLS</td>       <th>  Adj. R-squared:    </th> <td>   0.384</td>\n",
       "</tr>\n",
       "<tr>\n",
       "  <th>Method:</th>             <td>Least Squares</td>  <th>  F-statistic:       </th> <td>   31.61</td>\n",
       "</tr>\n",
       "<tr>\n",
       "  <th>Date:</th>             <td>Wed, 05 Feb 2020</td> <th>  Prob (F-statistic):</th> <td>9.42e-07</td>\n",
       "</tr>\n",
       "<tr>\n",
       "  <th>Time:</th>                 <td>15:49:27</td>     <th>  Log-Likelihood:    </th> <td> -106.16</td>\n",
       "</tr>\n",
       "<tr>\n",
       "  <th>No. Observations:</th>      <td>    50</td>      <th>  AIC:               </th> <td>   216.3</td>\n",
       "</tr>\n",
       "<tr>\n",
       "  <th>Df Residuals:</th>          <td>    48</td>      <th>  BIC:               </th> <td>   220.1</td>\n",
       "</tr>\n",
       "<tr>\n",
       "  <th>Df Model:</th>              <td>     1</td>      <th>                     </th>     <td> </td>   \n",
       "</tr>\n",
       "<tr>\n",
       "  <th>Covariance Type:</th>      <td>nonrobust</td>    <th>                     </th>     <td> </td>   \n",
       "</tr>\n",
       "</table>\n",
       "<table class=\"simpletable\">\n",
       "<tr>\n",
       "      <td></td>        <th>coef</th>     <th>std err</th>      <th>t</th>      <th>P>|t|</th>  <th>[0.025</th>    <th>0.975]</th>  \n",
       "</tr>\n",
       "<tr>\n",
       "  <th>const</th>    <td>    5.6857</td> <td>    0.349</td> <td>   16.297</td> <td> 0.000</td> <td>    4.984</td> <td>    6.387</td>\n",
       "</tr>\n",
       "<tr>\n",
       "  <th>hand_cat</th> <td>    3.5810</td> <td>    0.637</td> <td>    5.622</td> <td> 0.000</td> <td>    2.300</td> <td>    4.862</td>\n",
       "</tr>\n",
       "</table>\n",
       "<table class=\"simpletable\">\n",
       "<tr>\n",
       "  <th>Omnibus:</th>       <td> 1.234</td> <th>  Durbin-Watson:     </th> <td>   2.343</td>\n",
       "</tr>\n",
       "<tr>\n",
       "  <th>Prob(Omnibus):</th> <td> 0.540</td> <th>  Jarque-Bera (JB):  </th> <td>   1.238</td>\n",
       "</tr>\n",
       "<tr>\n",
       "  <th>Skew:</th>          <td> 0.343</td> <th>  Prob(JB):          </th> <td>   0.538</td>\n",
       "</tr>\n",
       "<tr>\n",
       "  <th>Kurtosis:</th>      <td> 2.648</td> <th>  Cond. No.          </th> <td>    2.42</td>\n",
       "</tr>\n",
       "</table><br/><br/>Warnings:<br/>[1] Standard Errors assume that the covariance matrix of the errors is correctly specified."
      ],
      "text/plain": [
       "<class 'statsmodels.iolib.summary.Summary'>\n",
       "\"\"\"\n",
       "                            OLS Regression Results                            \n",
       "==============================================================================\n",
       "Dep. Variable:                  score   R-squared:                       0.397\n",
       "Model:                            OLS   Adj. R-squared:                  0.384\n",
       "Method:                 Least Squares   F-statistic:                     31.61\n",
       "Date:                Wed, 05 Feb 2020   Prob (F-statistic):           9.42e-07\n",
       "Time:                        15:49:27   Log-Likelihood:                -106.16\n",
       "No. Observations:                  50   AIC:                             216.3\n",
       "Df Residuals:                      48   BIC:                             220.1\n",
       "Df Model:                           1                                         \n",
       "Covariance Type:            nonrobust                                         \n",
       "==============================================================================\n",
       "                 coef    std err          t      P>|t|      [0.025      0.975]\n",
       "------------------------------------------------------------------------------\n",
       "const          5.6857      0.349     16.297      0.000       4.984       6.387\n",
       "hand_cat       3.5810      0.637      5.622      0.000       2.300       4.862\n",
       "==============================================================================\n",
       "Omnibus:                        1.234   Durbin-Watson:                   2.343\n",
       "Prob(Omnibus):                  0.540   Jarque-Bera (JB):                1.238\n",
       "Skew:                           0.343   Prob(JB):                        0.538\n",
       "Kurtosis:                       2.648   Cond. No.                         2.42\n",
       "==============================================================================\n",
       "\n",
       "Warnings:\n",
       "[1] Standard Errors assume that the covariance matrix of the errors is correctly specified.\n",
       "\"\"\""
      ]
     },
     "execution_count": 72,
     "metadata": {},
     "output_type": "execute_result"
    }
   ],
   "source": [
    "# linear regression for Boris\n",
    "x_BR = sm.add_constant(pancake[pancake['name'] == 'Boris'][['hand_cat']])\n",
    "y_BR = pancake[pancake['name'] == 'Boris'][['score']]\n",
    "lr2 = sm.OLS(y_BR, x_BR).fit()\n",
    "lr2.summary()"
   ]
  },
  {
   "cell_type": "markdown",
   "metadata": {},
   "source": [
    "Judging from our results, the p-values for `hand` variable under both models are less than 0.05, suggesting that there is a significant difference in success rates of flipping pancakes when using left or right hand. In particular, the coefficients for `hand` variable are 2.89 and 3.58 for Arielle and Boris respectively. This means that, on average it will improve 2.89 and 3.58 more successes in flipping pancakes using right hand than left hand."
   ]
  },
  {
   "cell_type": "markdown",
   "metadata": {},
   "source": [
    "### 1.5 Compare with right-hand performances\n",
    "\n",
    "Thus, as the final justification, we need to compare Arielle and Boris in terms of their right-hand performance."
   ]
  },
  {
   "cell_type": "code",
   "execution_count": 8,
   "metadata": {},
   "outputs": [
    {
     "data": {
      "text/html": [
       "<table class=\"simpletable\">\n",
       "<caption>OLS Regression Results</caption>\n",
       "<tr>\n",
       "  <th>Dep. Variable:</th>          <td>score</td>      <th>  R-squared:         </th> <td>   0.118</td>\n",
       "</tr>\n",
       "<tr>\n",
       "  <th>Model:</th>                   <td>OLS</td>       <th>  Adj. R-squared:    </th> <td>   0.099</td>\n",
       "</tr>\n",
       "<tr>\n",
       "  <th>Method:</th>             <td>Least Squares</td>  <th>  F-statistic:       </th> <td>   6.411</td>\n",
       "</tr>\n",
       "<tr>\n",
       "  <th>Date:</th>             <td>Mon, 10 Feb 2020</td> <th>  Prob (F-statistic):</th>  <td>0.0147</td> \n",
       "</tr>\n",
       "<tr>\n",
       "  <th>Time:</th>                 <td>21:05:00</td>     <th>  Log-Likelihood:    </th> <td> -105.16</td>\n",
       "</tr>\n",
       "<tr>\n",
       "  <th>No. Observations:</th>      <td>    50</td>      <th>  AIC:               </th> <td>   214.3</td>\n",
       "</tr>\n",
       "<tr>\n",
       "  <th>Df Residuals:</th>          <td>    48</td>      <th>  BIC:               </th> <td>   218.1</td>\n",
       "</tr>\n",
       "<tr>\n",
       "  <th>Df Model:</th>              <td>     1</td>      <th>                     </th>     <td> </td>   \n",
       "</tr>\n",
       "<tr>\n",
       "  <th>Covariance Type:</th>      <td>nonrobust</td>    <th>                     </th>     <td> </td>   \n",
       "</tr>\n",
       "</table>\n",
       "<table class=\"simpletable\">\n",
       "<tr>\n",
       "      <td></td>        <th>coef</th>     <th>std err</th>      <th>t</th>      <th>P>|t|</th>  <th>[0.025</th>    <th>0.975]</th>  \n",
       "</tr>\n",
       "<tr>\n",
       "  <th>const</th>    <td>    7.6857</td> <td>    0.342</td> <td>   22.474</td> <td> 0.000</td> <td>    6.998</td> <td>    8.373</td>\n",
       "</tr>\n",
       "<tr>\n",
       "  <th>name_cat</th> <td>    1.5810</td> <td>    0.624</td> <td>    2.532</td> <td> 0.015</td> <td>    0.326</td> <td>    2.836</td>\n",
       "</tr>\n",
       "</table>\n",
       "<table class=\"simpletable\">\n",
       "<tr>\n",
       "  <th>Omnibus:</th>       <td> 1.456</td> <th>  Durbin-Watson:     </th> <td>   2.028</td>\n",
       "</tr>\n",
       "<tr>\n",
       "  <th>Prob(Omnibus):</th> <td> 0.483</td> <th>  Jarque-Bera (JB):  </th> <td>   0.810</td>\n",
       "</tr>\n",
       "<tr>\n",
       "  <th>Skew:</th>          <td>-0.287</td> <th>  Prob(JB):          </th> <td>   0.667</td>\n",
       "</tr>\n",
       "<tr>\n",
       "  <th>Kurtosis:</th>      <td> 3.243</td> <th>  Cond. No.          </th> <td>    2.42</td>\n",
       "</tr>\n",
       "</table><br/><br/>Warnings:<br/>[1] Standard Errors assume that the covariance matrix of the errors is correctly specified."
      ],
      "text/plain": [
       "<class 'statsmodels.iolib.summary.Summary'>\n",
       "\"\"\"\n",
       "                            OLS Regression Results                            \n",
       "==============================================================================\n",
       "Dep. Variable:                  score   R-squared:                       0.118\n",
       "Model:                            OLS   Adj. R-squared:                  0.099\n",
       "Method:                 Least Squares   F-statistic:                     6.411\n",
       "Date:                Mon, 10 Feb 2020   Prob (F-statistic):             0.0147\n",
       "Time:                        21:05:00   Log-Likelihood:                -105.16\n",
       "No. Observations:                  50   AIC:                             214.3\n",
       "Df Residuals:                      48   BIC:                             218.1\n",
       "Df Model:                           1                                         \n",
       "Covariance Type:            nonrobust                                         \n",
       "==============================================================================\n",
       "                 coef    std err          t      P>|t|      [0.025      0.975]\n",
       "------------------------------------------------------------------------------\n",
       "const          7.6857      0.342     22.474      0.000       6.998       8.373\n",
       "name_cat       1.5810      0.624      2.532      0.015       0.326       2.836\n",
       "==============================================================================\n",
       "Omnibus:                        1.456   Durbin-Watson:                   2.028\n",
       "Prob(Omnibus):                  0.483   Jarque-Bera (JB):                0.810\n",
       "Skew:                          -0.287   Prob(JB):                        0.667\n",
       "Kurtosis:                       3.243   Cond. No.                         2.42\n",
       "==============================================================================\n",
       "\n",
       "Warnings:\n",
       "[1] Standard Errors assume that the covariance matrix of the errors is correctly specified.\n",
       "\"\"\""
      ]
     },
     "execution_count": 8,
     "metadata": {},
     "output_type": "execute_result"
    }
   ],
   "source": [
    "# 1.5 Compare Arielle and Boris on their right-hand performance.\n",
    "pancake['name_cat'] = pancake['name'].astype('category').cat.codes\n",
    "# 0 is Arielle and 1 is Boris\n",
    "\n",
    "x = sm.add_constant(pancake[pancake['hand'] == 'R']['name_cat'])\n",
    "y = pancake[pancake['hand'] == 'R']['score']\n",
    "lr3 = sm.OLS(y, x).fit()\n",
    "lr3.summary()"
   ]
  },
  {
   "cell_type": "markdown",
   "metadata": {},
   "source": [
    "Thus from the results above, we see that the variable `name_cat` has a p-value of 0.015, which means that if we set the significance level at 0.05, we can conclude that there is a significant difference in success rates for flipping pancakes for Arielle and Boris using their right hands. And on average, Boris can flip 1.58 more pancakes than Arielle using right hands. \n",
    "\n",
    "In conclusion, the general performances for Boris and Arielle do not have a significant difference. However, when both of them are using dominant hands, Boris is a better flipper than Arielle. Thus it can be adjustified in some level to say that he's a better flipper than Arielle, since Boris have higher 'upper limit' than Arielle."
   ]
  },
  {
   "cell_type": "markdown",
   "metadata": {},
   "source": [
    "## Part 2: Identifying Popular Restaurants from check-ins\n",
    "\n",
    "A restaurant app has a set of check-ins for restaurants in London, UK and is trying to determine which restaurant is the most popular. They have data in the form of a JSON hash with keys: `user_id, timestamp, place_id, postal_code`.\n",
    "\n",
    "Using the data in `part2.json`, identify the **most popular** place in each zipcode. Explain your method and your reasoning.\n"
   ]
  },
  {
   "cell_type": "markdown",
   "metadata": {},
   "source": [
    "### Answer\n",
    "\n",
    "### 2.1 Read data"
   ]
  },
  {
   "cell_type": "code",
   "execution_count": 9,
   "metadata": {},
   "outputs": [
    {
     "data": {
      "text/html": [
       "<div>\n",
       "<style scoped>\n",
       "    .dataframe tbody tr th:only-of-type {\n",
       "        vertical-align: middle;\n",
       "    }\n",
       "\n",
       "    .dataframe tbody tr th {\n",
       "        vertical-align: top;\n",
       "    }\n",
       "\n",
       "    .dataframe thead th {\n",
       "        text-align: right;\n",
       "    }\n",
       "</style>\n",
       "<table border=\"1\" class=\"dataframe\">\n",
       "  <thead>\n",
       "    <tr style=\"text-align: right;\">\n",
       "      <th></th>\n",
       "      <th>place_id</th>\n",
       "      <th>postal_code</th>\n",
       "      <th>timestamp</th>\n",
       "      <th>user_id</th>\n",
       "    </tr>\n",
       "  </thead>\n",
       "  <tbody>\n",
       "    <tr>\n",
       "      <th>0</th>\n",
       "      <td>fe2958af-c764-4534-9b68-40e44b77e162</td>\n",
       "      <td>SW15</td>\n",
       "      <td>2018-05-22 03:08:06</td>\n",
       "      <td>f2ada356-3789-4ddb-866f-0e00f3387454</td>\n",
       "    </tr>\n",
       "    <tr>\n",
       "      <th>1</th>\n",
       "      <td>f540d154-78d8-4f6a-a07b-ba1082bc94d6</td>\n",
       "      <td>SW18</td>\n",
       "      <td>2018-05-21 03:48:33</td>\n",
       "      <td>3126bb24-0547-4517-bcf8-81f4944832c5</td>\n",
       "    </tr>\n",
       "    <tr>\n",
       "      <th>2</th>\n",
       "      <td>b51746ef-a031-4eef-9a37-836b478c9f11</td>\n",
       "      <td>E2</td>\n",
       "      <td>2018-04-23 02:48:06</td>\n",
       "      <td>5df094de-7236-4e06-9e1a-7aeea1910d08</td>\n",
       "    </tr>\n",
       "    <tr>\n",
       "      <th>3</th>\n",
       "      <td>b51746ef-a031-4eef-9a37-836b478c9f11</td>\n",
       "      <td>E2</td>\n",
       "      <td>2018-04-23 03:08:46</td>\n",
       "      <td>5df094de-7236-4e06-9e1a-7aeea1910d08</td>\n",
       "    </tr>\n",
       "    <tr>\n",
       "      <th>4</th>\n",
       "      <td>39366f8b-ac58-4c4a-9a0f-10121e4f54d3</td>\n",
       "      <td>E2</td>\n",
       "      <td>2018-05-21 04:10:19</td>\n",
       "      <td>08629da4-92e8-434c-932f-5f3b6aa3714c</td>\n",
       "    </tr>\n",
       "  </tbody>\n",
       "</table>\n",
       "</div>"
      ],
      "text/plain": [
       "                               place_id postal_code           timestamp  \\\n",
       "0  fe2958af-c764-4534-9b68-40e44b77e162        SW15 2018-05-22 03:08:06   \n",
       "1  f540d154-78d8-4f6a-a07b-ba1082bc94d6        SW18 2018-05-21 03:48:33   \n",
       "2  b51746ef-a031-4eef-9a37-836b478c9f11          E2 2018-04-23 02:48:06   \n",
       "3  b51746ef-a031-4eef-9a37-836b478c9f11          E2 2018-04-23 03:08:46   \n",
       "4  39366f8b-ac58-4c4a-9a0f-10121e4f54d3          E2 2018-05-21 04:10:19   \n",
       "\n",
       "                                user_id  \n",
       "0  f2ada356-3789-4ddb-866f-0e00f3387454  \n",
       "1  3126bb24-0547-4517-bcf8-81f4944832c5  \n",
       "2  5df094de-7236-4e06-9e1a-7aeea1910d08  \n",
       "3  5df094de-7236-4e06-9e1a-7aeea1910d08  \n",
       "4  08629da4-92e8-434c-932f-5f3b6aa3714c  "
      ]
     },
     "execution_count": 9,
     "metadata": {},
     "output_type": "execute_result"
    }
   ],
   "source": [
    "#  2.1 Import the data\n",
    "restaurant = pd.read_json('coding_exercise_data/part2.json', lines = True)\n",
    "restaurant.head()"
   ]
  },
  {
   "cell_type": "markdown",
   "metadata": {},
   "source": [
    "###  2.2 Find the most popular restaurant based on number of user check-ins\n",
    "\n",
    "To examine the most popular place for each zipcode, we simply need to count the number of user check-ins for each restaurants, rank them inside of each zipcode, and pick the restaurant with the highest number of user check-ins."
   ]
  },
  {
   "cell_type": "code",
   "execution_count": 10,
   "metadata": {},
   "outputs": [
    {
     "name": "stderr",
     "output_type": "stream",
     "text": [
      "/Users/diyangwu/anaconda3/lib/python3.6/site-packages/ipykernel_launcher.py:3: FutureWarning: using a dict on a Series for aggregation\n",
      "is deprecated and will be removed in a future version\n",
      "  This is separate from the ipykernel package so we can avoid doing imports until\n"
     ]
    },
    {
     "data": {
      "text/html": [
       "<div>\n",
       "<style scoped>\n",
       "    .dataframe tbody tr th:only-of-type {\n",
       "        vertical-align: middle;\n",
       "    }\n",
       "\n",
       "    .dataframe tbody tr th {\n",
       "        vertical-align: top;\n",
       "    }\n",
       "\n",
       "    .dataframe thead th {\n",
       "        text-align: right;\n",
       "    }\n",
       "</style>\n",
       "<table border=\"1\" class=\"dataframe\">\n",
       "  <thead>\n",
       "    <tr style=\"text-align: right;\">\n",
       "      <th></th>\n",
       "      <th></th>\n",
       "      <th>place_id</th>\n",
       "      <th>num_checkin</th>\n",
       "    </tr>\n",
       "    <tr>\n",
       "      <th>postal_code</th>\n",
       "      <th></th>\n",
       "      <th></th>\n",
       "      <th></th>\n",
       "    </tr>\n",
       "  </thead>\n",
       "  <tbody>\n",
       "    <tr>\n",
       "      <th>E2</th>\n",
       "      <th>9</th>\n",
       "      <td>b51746ef-a031-4eef-9a37-836b478c9f11</td>\n",
       "      <td>3180</td>\n",
       "    </tr>\n",
       "    <tr>\n",
       "      <th>E4</th>\n",
       "      <th>15</th>\n",
       "      <td>f2f57264-ce10-43d7-a336-0d995dfb02e8</td>\n",
       "      <td>4644</td>\n",
       "    </tr>\n",
       "    <tr>\n",
       "      <th>SW15</th>\n",
       "      <th>21</th>\n",
       "      <td>fe2958af-c764-4534-9b68-40e44b77e162</td>\n",
       "      <td>5726</td>\n",
       "    </tr>\n",
       "    <tr>\n",
       "      <th>SW18</th>\n",
       "      <th>36</th>\n",
       "      <td>f540d154-78d8-4f6a-a07b-ba1082bc94d6</td>\n",
       "      <td>1480</td>\n",
       "    </tr>\n",
       "    <tr>\n",
       "      <th>W6</th>\n",
       "      <th>40</th>\n",
       "      <td>63c97a8b-5d73-4f6e-bb5a-ab8a3cc6e990</td>\n",
       "      <td>1651</td>\n",
       "    </tr>\n",
       "  </tbody>\n",
       "</table>\n",
       "</div>"
      ],
      "text/plain": [
       "                                            place_id  num_checkin\n",
       "postal_code                                                      \n",
       "E2          9   b51746ef-a031-4eef-9a37-836b478c9f11         3180\n",
       "E4          15  f2f57264-ce10-43d7-a336-0d995dfb02e8         4644\n",
       "SW15        21  fe2958af-c764-4534-9b68-40e44b77e162         5726\n",
       "SW18        36  f540d154-78d8-4f6a-a07b-ba1082bc94d6         1480\n",
       "W6          40  63c97a8b-5d73-4f6e-bb5a-ab8a3cc6e990         1651"
      ]
     },
     "execution_count": 10,
     "metadata": {},
     "output_type": "execute_result"
    }
   ],
   "source": [
    "# 2.2 find the most popular restaurant based on number of user check-ins\n",
    "# calculate the number of user-checkins for each restaurant\n",
    "df1 = restaurant.groupby(['postal_code', 'place_id'])['user_id'].agg({'num_checkin':'count'})\n",
    "\n",
    "# reset the index to not include postal_code and place_id in the index\n",
    "df1.reset_index(inplace = True)\n",
    "\n",
    "# find the restaurant with highest number of user check-ins for each zipcode\n",
    "(df1.groupby('postal_code')['place_id', 'num_checkin'].\n",
    "     apply(lambda x: x.sort_values(['num_checkin'], ascending = False).head(1)))\n"
   ]
  },
  {
   "cell_type": "markdown",
   "metadata": {},
   "source": [
    "The result is provided above."
   ]
  },
  {
   "cell_type": "markdown",
   "metadata": {},
   "source": [
    "### 2.3 find the most popular restaurant based on number of unique user check-ins\n",
    "\n",
    "However, one may argue that, since a user can check in multiple times for a single restaurant, it might be fair to count the number of unique user check-ins for each retaurant. It's true that popularity for a restaurant means it has the ability to engage and retend the customers. However, being able to acquire new customers is also crucial for a restaurant to be popular. Thus we will provide the list of most popular restaurant in each zipcode as followed:"
   ]
  },
  {
   "cell_type": "code",
   "execution_count": 173,
   "metadata": {},
   "outputs": [
    {
     "data": {
      "text/html": [
       "<div>\n",
       "<style scoped>\n",
       "    .dataframe tbody tr th:only-of-type {\n",
       "        vertical-align: middle;\n",
       "    }\n",
       "\n",
       "    .dataframe tbody tr th {\n",
       "        vertical-align: top;\n",
       "    }\n",
       "\n",
       "    .dataframe thead th {\n",
       "        text-align: right;\n",
       "    }\n",
       "</style>\n",
       "<table border=\"1\" class=\"dataframe\">\n",
       "  <thead>\n",
       "    <tr style=\"text-align: right;\">\n",
       "      <th></th>\n",
       "      <th></th>\n",
       "      <th>place_id</th>\n",
       "      <th>user_id</th>\n",
       "    </tr>\n",
       "    <tr>\n",
       "      <th>postal_code</th>\n",
       "      <th></th>\n",
       "      <th></th>\n",
       "      <th></th>\n",
       "    </tr>\n",
       "  </thead>\n",
       "  <tbody>\n",
       "    <tr>\n",
       "      <th>E2</th>\n",
       "      <th>9</th>\n",
       "      <td>b51746ef-a031-4eef-9a37-836b478c9f11</td>\n",
       "      <td>547</td>\n",
       "    </tr>\n",
       "    <tr>\n",
       "      <th>E4</th>\n",
       "      <th>15</th>\n",
       "      <td>f2f57264-ce10-43d7-a336-0d995dfb02e8</td>\n",
       "      <td>591</td>\n",
       "    </tr>\n",
       "    <tr>\n",
       "      <th>SW15</th>\n",
       "      <th>21</th>\n",
       "      <td>fe2958af-c764-4534-9b68-40e44b77e162</td>\n",
       "      <td>628</td>\n",
       "    </tr>\n",
       "    <tr>\n",
       "      <th>SW18</th>\n",
       "      <th>36</th>\n",
       "      <td>f540d154-78d8-4f6a-a07b-ba1082bc94d6</td>\n",
       "      <td>412</td>\n",
       "    </tr>\n",
       "    <tr>\n",
       "      <th>W6</th>\n",
       "      <th>40</th>\n",
       "      <td>63c97a8b-5d73-4f6e-bb5a-ab8a3cc6e990</td>\n",
       "      <td>430</td>\n",
       "    </tr>\n",
       "  </tbody>\n",
       "</table>\n",
       "</div>"
      ],
      "text/plain": [
       "                                            place_id  user_id\n",
       "postal_code                                                  \n",
       "E2          9   b51746ef-a031-4eef-9a37-836b478c9f11      547\n",
       "E4          15  f2f57264-ce10-43d7-a336-0d995dfb02e8      591\n",
       "SW15        21  fe2958af-c764-4534-9b68-40e44b77e162      628\n",
       "SW18        36  f540d154-78d8-4f6a-a07b-ba1082bc94d6      412\n",
       "W6          40  63c97a8b-5d73-4f6e-bb5a-ab8a3cc6e990      430"
      ]
     },
     "execution_count": 173,
     "metadata": {},
     "output_type": "execute_result"
    }
   ],
   "source": [
    "# 2.3 find the most popular restaurant based on number of unique user check-ins\n",
    "# calculate the number of unique user-checkins for each restaurant\n",
    "df2 = restaurant.groupby(['postal_code', 'place_id'])['user_id'].nunique()\n",
    "\n",
    "# reset the index to not include postal_code and place_id in the index\n",
    "df3 = df2.reset_index()\n",
    "\n",
    "# find the restaurant with highest number of unique user check-ins for each zipcode\n",
    "(df3.groupby('postal_code')['place_id', 'user_id'].\n",
    "   apply(lambda x: x.sort_values(['user_id'], ascending = False).head(1)))\n"
   ]
  },
  {
   "cell_type": "markdown",
   "metadata": {},
   "source": [
    "The result is provided above. It appears that the number of check-ins indeed drops significantly, but the most popular restaurant within each zipcode remains unchanged judging from the place_de/dataframe index. "
   ]
  },
  {
   "cell_type": "markdown",
   "metadata": {},
   "source": [
    "## Part 3: Identifying Popular Restaurants from Tagged Photos\n",
    "\n",
    "A photo sharing app has a set of photographs tagged to restaurants in London, UK and is trying to determine which are the most popular restaurants in each postal code. The app maker is worried that there may be some skews, biases, and fraud in their data, and has asked you to investigate. Their data, in `part3.json` has the same schema as the data in `part2.json`. \n",
    "\n",
    "\n",
    "\n",
    "**Identify what you consider the most popular places, and note any issues with the data. Explain your reasoning.**"
   ]
  },
  {
   "cell_type": "markdown",
   "metadata": {},
   "source": [
    "### Answer\n",
    "\n",
    "To answer this question that whether the data has some skews or even fraud, we first need to examine some of the distributions of the variables in the dataset.\n",
    "\n",
    "We also notice that, for a photo sharing app, a common fraud is that restaurants would hire promoters to give out tags to their restaurants. So we will exmamine distribution of the number of tags made by each user to see if there is ineed such a problem."
   ]
  },
  {
   "cell_type": "markdown",
   "metadata": {},
   "source": [
    "### 3.1 Read data"
   ]
  },
  {
   "cell_type": "code",
   "execution_count": 116,
   "metadata": {},
   "outputs": [
    {
     "data": {
      "text/html": [
       "<div>\n",
       "<style scoped>\n",
       "    .dataframe tbody tr th:only-of-type {\n",
       "        vertical-align: middle;\n",
       "    }\n",
       "\n",
       "    .dataframe tbody tr th {\n",
       "        vertical-align: top;\n",
       "    }\n",
       "\n",
       "    .dataframe thead th {\n",
       "        text-align: right;\n",
       "    }\n",
       "</style>\n",
       "<table border=\"1\" class=\"dataframe\">\n",
       "  <thead>\n",
       "    <tr style=\"text-align: right;\">\n",
       "      <th></th>\n",
       "      <th>place_id</th>\n",
       "      <th>postal_code</th>\n",
       "      <th>timestamp</th>\n",
       "      <th>user_id</th>\n",
       "    </tr>\n",
       "  </thead>\n",
       "  <tbody>\n",
       "    <tr>\n",
       "      <th>0</th>\n",
       "      <td>cc4e591f-55d5-458e-a792-bbd78abd7791</td>\n",
       "      <td>W11</td>\n",
       "      <td>1526781194</td>\n",
       "      <td>7533a324-baf6-4ac8-88da-5e6946f78901</td>\n",
       "    </tr>\n",
       "    <tr>\n",
       "      <th>1</th>\n",
       "      <td>0f1aa959-dcae-4e5d-bebe-6e8c32d12b50</td>\n",
       "      <td>W11</td>\n",
       "      <td>1522233352</td>\n",
       "      <td>a0221733-4c57-40f9-bffe-afc917ebf1e8</td>\n",
       "    </tr>\n",
       "    <tr>\n",
       "      <th>2</th>\n",
       "      <td>0f1aa959-dcae-4e5d-bebe-6e8c32d12b50</td>\n",
       "      <td>W11</td>\n",
       "      <td>1522240001</td>\n",
       "      <td>a0221733-4c57-40f9-bffe-afc917ebf1e8</td>\n",
       "    </tr>\n",
       "    <tr>\n",
       "      <th>3</th>\n",
       "      <td>259afbe4-5b34-4d5d-8997-7df0a7b4e4a6</td>\n",
       "      <td>SW14</td>\n",
       "      <td>1521689291</td>\n",
       "      <td>8776aae1-205d-492d-8357-60b06cbce7c9</td>\n",
       "    </tr>\n",
       "    <tr>\n",
       "      <th>4</th>\n",
       "      <td>259afbe4-5b34-4d5d-8997-7df0a7b4e4a6</td>\n",
       "      <td>SW14</td>\n",
       "      <td>1521686717</td>\n",
       "      <td>8776aae1-205d-492d-8357-60b06cbce7c9</td>\n",
       "    </tr>\n",
       "  </tbody>\n",
       "</table>\n",
       "</div>"
      ],
      "text/plain": [
       "                               place_id postal_code   timestamp  \\\n",
       "0  cc4e591f-55d5-458e-a792-bbd78abd7791         W11  1526781194   \n",
       "1  0f1aa959-dcae-4e5d-bebe-6e8c32d12b50         W11  1522233352   \n",
       "2  0f1aa959-dcae-4e5d-bebe-6e8c32d12b50         W11  1522240001   \n",
       "3  259afbe4-5b34-4d5d-8997-7df0a7b4e4a6        SW14  1521689291   \n",
       "4  259afbe4-5b34-4d5d-8997-7df0a7b4e4a6        SW14  1521686717   \n",
       "\n",
       "                                user_id  \n",
       "0  7533a324-baf6-4ac8-88da-5e6946f78901  \n",
       "1  a0221733-4c57-40f9-bffe-afc917ebf1e8  \n",
       "2  a0221733-4c57-40f9-bffe-afc917ebf1e8  \n",
       "3  8776aae1-205d-492d-8357-60b06cbce7c9  \n",
       "4  8776aae1-205d-492d-8357-60b06cbce7c9  "
      ]
     },
     "execution_count": 116,
     "metadata": {},
     "output_type": "execute_result"
    }
   ],
   "source": [
    "# 3.1 Import data:\n",
    "restaurant = pd.read_json('coding_exercise_data/part3.json', lines = True)\n",
    "restaurant.head()"
   ]
  },
  {
   "cell_type": "markdown",
   "metadata": {},
   "source": [
    "### 3.2 Exploratory research"
   ]
  },
  {
   "cell_type": "code",
   "execution_count": 118,
   "metadata": {},
   "outputs": [
    {
     "name": "stderr",
     "output_type": "stream",
     "text": [
      "/Users/diyangwu/anaconda3/lib/python3.6/site-packages/matplotlib/axes/_axes.py:6462: UserWarning: The 'normed' kwarg is deprecated, and has been replaced by the 'density' kwarg.\n",
      "  warnings.warn(\"The 'normed' kwarg is deprecated, and has been \"\n"
     ]
    },
    {
     "data": {
      "text/plain": [
       "Text(0,0.5,'Distribution')"
      ]
     },
     "execution_count": 118,
     "metadata": {},
     "output_type": "execute_result"
    },
    {
     "data": {
      "image/png": "[encoded data removed]",
      "text/plain": [
       "<Figure size 432x288 with 1 Axes>"
      ]
     },
     "metadata": {},
     "output_type": "display_data"
    }
   ],
   "source": [
    "# 3.2 Basic understanding of the data frame\n",
    "# Transform the user_id to integers for making graphs.\n",
    "restaurant['user_id'] = restaurant['user_id'].astype('category').cat.codes\n",
    "\n",
    "# Convert timestamp to datetime\n",
    "restaurant['timestamp'] = pd.to_datetime(restaurant['timestamp'], unit='s')\n",
    "\n",
    "sns.distplot(restaurant['user_id'])\n",
    "plt.xlabel('Tags Created by Each User')\n",
    "plt.ylabel('Distribution')"
   ]
  },
  {
   "cell_type": "markdown",
   "metadata": {},
   "source": [
    "Perhaps right from this distribution graph we cannot see clearly if there is a serious skewness in the tags created by each user. However, we do notice that there is some outliers in the upper right corner. We will need to exmaine this in more details."
   ]
  },
  {
   "cell_type": "code",
   "execution_count": 119,
   "metadata": {},
   "outputs": [
    {
     "data": {
      "text/plain": [
       "1561    14283\n",
       "79       2867\n",
       "661      2233\n",
       "27       2044\n",
       "464      1532\n",
       "254      1487\n",
       "563      1450\n",
       "567      1406\n",
       "576      1361\n",
       "996      1207\n",
       "36       1151\n",
       "1209     1117\n",
       "278      1113\n",
       "1197     1105\n",
       "861      1085\n",
       "137      1084\n",
       "780      1083\n",
       "710       993\n",
       "722       984\n",
       "1567      975\n",
       "Name: user_id, dtype: int64"
      ]
     },
     "execution_count": 119,
     "metadata": {},
     "output_type": "execute_result"
    }
   ],
   "source": [
    "# Examine the exact numbers of tags created by each user\n",
    "user_df = restaurant['user_id'].value_counts()\n",
    "user_df.head(20)"
   ]
  },
  {
   "cell_type": "markdown",
   "metadata": {},
   "source": [
    "Apparently user 1561 has over 10,000 tags on this app. Personally I found it very dubious for a user to create that many tags on restaurants. However, one can still argue that, if the user has been around the app long enough, there is a potential that he will give out that many tags. Well, lets check his user active_periods to find out. "
   ]
  },
  {
   "cell_type": "code",
   "execution_count": 120,
   "metadata": {},
   "outputs": [
    {
     "data": {
      "text/plain": [
       "Timedelta('70 days 00:56:14')"
      ]
     },
     "execution_count": 120,
     "metadata": {},
     "output_type": "execute_result"
    }
   ],
   "source": [
    "max(restaurant[restaurant['user_id'] == 1561]['timestamp']) - min(restaurant[restaurant['user_id'] == 1561]['timestamp'])"
   ]
  },
  {
   "cell_type": "markdown",
   "metadata": {},
   "source": [
    "Around 70 days! Now I think it's safe to say there is something wrong for this user. The question is, how many other users are potentially dubious, and how should we determine them? "
   ]
  },
  {
   "cell_type": "markdown",
   "metadata": {},
   "source": [
    "### 3.3 Identify outliers\n",
    "\n",
    "To answer this question, we must combine these two pieces of information: the tags created by each user, and the active periods for each user. We can calculate the tags created per day as shown below."
   ]
  },
  {
   "cell_type": "code",
   "execution_count": 124,
   "metadata": {},
   "outputs": [],
   "source": [
    "# 3.3 Identify Outliers\n",
    "# Clean the format for user_df\n",
    "a = pd.DataFrame(user_df).reset_index()\n",
    "a.rename(columns = {'index': 'user_id', 'user_id': 'counts'}, inplace = True)"
   ]
  },
  {
   "cell_type": "code",
   "execution_count": 125,
   "metadata": {},
   "outputs": [],
   "source": [
    "# Calculate the active period for each user and clean the format\n",
    "b = pd.DataFrame(restaurant.groupby('user_id').apply(lambda a,b: max(a[b]) - min(a[b]), 'timestamp'))\n",
    "b.reset_index(inplace = True)\n",
    "b.rename(columns = {0 : 'active_period'}, inplace = True)"
   ]
  },
  {
   "cell_type": "code",
   "execution_count": 126,
   "metadata": {},
   "outputs": [],
   "source": [
    "# Merge the above dataframe, and transfer the active_period to active_day(0 day counts as 1)\n",
    "c = pd.merge(a, b, how = 'inner', left_on = 'user_id', right_on = 'user_id')\n",
    "c['active_day'] =  list(map(lambda x: x.days, c['active_period']))\n",
    "c['active_day'].replace(0, 1, inplace = True)\n"
   ]
  },
  {
   "cell_type": "code",
   "execution_count": 127,
   "metadata": {},
   "outputs": [
    {
     "data": {
      "text/html": [
       "<div>\n",
       "<style scoped>\n",
       "    .dataframe tbody tr th:only-of-type {\n",
       "        vertical-align: middle;\n",
       "    }\n",
       "\n",
       "    .dataframe tbody tr th {\n",
       "        vertical-align: top;\n",
       "    }\n",
       "\n",
       "    .dataframe thead th {\n",
       "        text-align: right;\n",
       "    }\n",
       "</style>\n",
       "<table border=\"1\" class=\"dataframe\">\n",
       "  <thead>\n",
       "    <tr style=\"text-align: right;\">\n",
       "      <th></th>\n",
       "      <th>user_id</th>\n",
       "      <th>counts</th>\n",
       "      <th>active_period</th>\n",
       "      <th>active_day</th>\n",
       "      <th>tag_per_day</th>\n",
       "    </tr>\n",
       "  </thead>\n",
       "  <tbody>\n",
       "    <tr>\n",
       "      <th>0</th>\n",
       "      <td>1561</td>\n",
       "      <td>14283</td>\n",
       "      <td>70 days 00:56:14</td>\n",
       "      <td>70</td>\n",
       "      <td>204.04</td>\n",
       "    </tr>\n",
       "    <tr>\n",
       "      <th>1</th>\n",
       "      <td>79</td>\n",
       "      <td>2867</td>\n",
       "      <td>69 days 15:15:21</td>\n",
       "      <td>69</td>\n",
       "      <td>41.55</td>\n",
       "    </tr>\n",
       "    <tr>\n",
       "      <th>2</th>\n",
       "      <td>661</td>\n",
       "      <td>2233</td>\n",
       "      <td>69 days 09:04:09</td>\n",
       "      <td>69</td>\n",
       "      <td>32.36</td>\n",
       "    </tr>\n",
       "    <tr>\n",
       "      <th>3</th>\n",
       "      <td>27</td>\n",
       "      <td>2044</td>\n",
       "      <td>69 days 05:34:40</td>\n",
       "      <td>69</td>\n",
       "      <td>29.62</td>\n",
       "    </tr>\n",
       "    <tr>\n",
       "      <th>4</th>\n",
       "      <td>464</td>\n",
       "      <td>1532</td>\n",
       "      <td>69 days 23:25:19</td>\n",
       "      <td>69</td>\n",
       "      <td>22.20</td>\n",
       "    </tr>\n",
       "  </tbody>\n",
       "</table>\n",
       "</div>"
      ],
      "text/plain": [
       "   user_id  counts    active_period  active_day  tag_per_day\n",
       "0     1561   14283 70 days 00:56:14          70       204.04\n",
       "1       79    2867 69 days 15:15:21          69        41.55\n",
       "2      661    2233 69 days 09:04:09          69        32.36\n",
       "3       27    2044 69 days 05:34:40          69        29.62\n",
       "4      464    1532 69 days 23:25:19          69        22.20"
      ]
     },
     "execution_count": 127,
     "metadata": {},
     "output_type": "execute_result"
    }
   ],
   "source": [
    "# Calculate tags created per day.\n",
    "c['tag_per_day'] = round(c['counts'] / c['active_day'], 2)\n",
    "c.head()"
   ]
  },
  {
   "cell_type": "code",
   "execution_count": 128,
   "metadata": {},
   "outputs": [
    {
     "name": "stderr",
     "output_type": "stream",
     "text": [
      "/Users/diyangwu/anaconda3/lib/python3.6/site-packages/matplotlib/axes/_axes.py:6462: UserWarning: The 'normed' kwarg is deprecated, and has been replaced by the 'density' kwarg.\n",
      "  warnings.warn(\"The 'normed' kwarg is deprecated, and has been \"\n"
     ]
    },
    {
     "data": {
      "text/plain": [
       "<matplotlib.axes._subplots.AxesSubplot at 0x117147b70>"
      ]
     },
     "execution_count": 128,
     "metadata": {},
     "output_type": "execute_result"
    },
    {
     "data": {
      "image/png": "[encoded data removed]",
      "text/plain": [
       "<Figure size 432x288 with 1 Axes>"
      ]
     },
     "metadata": {},
     "output_type": "display_data"
    }
   ],
   "source": [
    "# Visualize the distributions of tag_per_day\n",
    "sns.distplot(c['tag_per_day'])"
   ]
  },
  {
   "cell_type": "markdown",
   "metadata": {},
   "source": [
    "Now it's clear to see that, although most of the users' daily created tags are clustered around 5-10, there is indeed a considerable amount of outliers in the `tag_per_day` variable. Whether they are restauran-hired promoters cannot be determined, but we will temporarily remove them for considerations of the most popular restaurant. To determine which group of users are outliers, we use the 1.5 IQR rule."
   ]
  },
  {
   "cell_type": "code",
   "execution_count": 129,
   "metadata": {},
   "outputs": [
    {
     "data": {
      "text/plain": [
       "user_id          116\n",
       "counts           116\n",
       "active_period    116\n",
       "active_day       116\n",
       "tag_per_day      116\n",
       "dtype: int64"
      ]
     },
     "execution_count": 129,
     "metadata": {},
     "output_type": "execute_result"
    }
   ],
   "source": [
    "# Create helper function to determine 1-dimensional outlier and remove them\n",
    "def find_outlier(data, variable):\n",
    "    lq,uq=np.percentile(data[variable],[25,75])\n",
    "    lower_l=lq - 1.5*(uq-lq) \n",
    "    upper_l=uq + 1.5*(uq-lq)\n",
    "    return data[(data[variable] > lower_l)  & (data[variable] < upper_l)]\n",
    "\n",
    "d = find_outlier(c, 'tag_per_day')\n",
    "\n",
    "c.count() - d.count()"
   ]
  },
  {
   "cell_type": "markdown",
   "metadata": {},
   "source": [
    "The elimination only takes out about 116 users, where there are in total roughly 1500 users. \n",
    "\n",
    "Other than examining the tags created per day, we also notice that some user has an unusually long active periods. We will not investigate the reason here, as I think longer user time for an app do not appear to be a dubious user behavior. The table will be provided below."
   ]
  },
  {
   "cell_type": "code",
   "execution_count": 108,
   "metadata": {},
   "outputs": [
    {
     "data": {
      "text/html": [
       "<div>\n",
       "<style scoped>\n",
       "    .dataframe tbody tr th:only-of-type {\n",
       "        vertical-align: middle;\n",
       "    }\n",
       "\n",
       "    .dataframe tbody tr th {\n",
       "        vertical-align: top;\n",
       "    }\n",
       "\n",
       "    .dataframe thead th {\n",
       "        text-align: right;\n",
       "    }\n",
       "</style>\n",
       "<table border=\"1\" class=\"dataframe\">\n",
       "  <thead>\n",
       "    <tr style=\"text-align: right;\">\n",
       "      <th></th>\n",
       "      <th>user_id</th>\n",
       "      <th>counts</th>\n",
       "      <th>active_period</th>\n",
       "      <th>active_day</th>\n",
       "      <th>tag_per_day</th>\n",
       "    </tr>\n",
       "  </thead>\n",
       "  <tbody>\n",
       "    <tr>\n",
       "      <th>1069</th>\n",
       "      <td>1405</td>\n",
       "      <td>59</td>\n",
       "      <td>13864 days 01:15:08</td>\n",
       "      <td>13864</td>\n",
       "      <td>0.0</td>\n",
       "    </tr>\n",
       "    <tr>\n",
       "      <th>1269</th>\n",
       "      <td>222</td>\n",
       "      <td>34</td>\n",
       "      <td>13575 days 01:09:52</td>\n",
       "      <td>13575</td>\n",
       "      <td>0.0</td>\n",
       "    </tr>\n",
       "    <tr>\n",
       "      <th>1495</th>\n",
       "      <td>422</td>\n",
       "      <td>10</td>\n",
       "      <td>13494 days 22:51:14</td>\n",
       "      <td>13494</td>\n",
       "      <td>0.0</td>\n",
       "    </tr>\n",
       "    <tr>\n",
       "      <th>1459</th>\n",
       "      <td>1524</td>\n",
       "      <td>15</td>\n",
       "      <td>13328 days 21:09:06</td>\n",
       "      <td>13328</td>\n",
       "      <td>0.0</td>\n",
       "    </tr>\n",
       "    <tr>\n",
       "      <th>1558</th>\n",
       "      <td>17</td>\n",
       "      <td>3</td>\n",
       "      <td>13296 days 03:08:17</td>\n",
       "      <td>13296</td>\n",
       "      <td>0.0</td>\n",
       "    </tr>\n",
       "    <tr>\n",
       "      <th>1487</th>\n",
       "      <td>534</td>\n",
       "      <td>11</td>\n",
       "      <td>13250 days 22:53:15</td>\n",
       "      <td>13250</td>\n",
       "      <td>0.0</td>\n",
       "    </tr>\n",
       "    <tr>\n",
       "      <th>1518</th>\n",
       "      <td>655</td>\n",
       "      <td>7</td>\n",
       "      <td>12875 days 01:19:49</td>\n",
       "      <td>12875</td>\n",
       "      <td>0.0</td>\n",
       "    </tr>\n",
       "    <tr>\n",
       "      <th>1212</th>\n",
       "      <td>468</td>\n",
       "      <td>42</td>\n",
       "      <td>12631 days 02:14:46</td>\n",
       "      <td>12631</td>\n",
       "      <td>0.0</td>\n",
       "    </tr>\n",
       "    <tr>\n",
       "      <th>1501</th>\n",
       "      <td>476</td>\n",
       "      <td>9</td>\n",
       "      <td>12561 days 02:34:05</td>\n",
       "      <td>12561</td>\n",
       "      <td>0.0</td>\n",
       "    </tr>\n",
       "    <tr>\n",
       "      <th>1403</th>\n",
       "      <td>159</td>\n",
       "      <td>21</td>\n",
       "      <td>12368 days 23:39:11</td>\n",
       "      <td>12368</td>\n",
       "      <td>0.0</td>\n",
       "    </tr>\n",
       "    <tr>\n",
       "      <th>1474</th>\n",
       "      <td>1416</td>\n",
       "      <td>13</td>\n",
       "      <td>12267 days 02:47:05</td>\n",
       "      <td>12267</td>\n",
       "      <td>0.0</td>\n",
       "    </tr>\n",
       "    <tr>\n",
       "      <th>1531</th>\n",
       "      <td>190</td>\n",
       "      <td>6</td>\n",
       "      <td>12200 days 00:50:45</td>\n",
       "      <td>12200</td>\n",
       "      <td>0.0</td>\n",
       "    </tr>\n",
       "    <tr>\n",
       "      <th>1529</th>\n",
       "      <td>226</td>\n",
       "      <td>6</td>\n",
       "      <td>12159 days 23:26:40</td>\n",
       "      <td>12159</td>\n",
       "      <td>0.0</td>\n",
       "    </tr>\n",
       "    <tr>\n",
       "      <th>1519</th>\n",
       "      <td>409</td>\n",
       "      <td>7</td>\n",
       "      <td>12133 days 04:38:21</td>\n",
       "      <td>12133</td>\n",
       "      <td>0.0</td>\n",
       "    </tr>\n",
       "    <tr>\n",
       "      <th>1530</th>\n",
       "      <td>180</td>\n",
       "      <td>6</td>\n",
       "      <td>11824 days 04:20:47</td>\n",
       "      <td>11824</td>\n",
       "      <td>0.0</td>\n",
       "    </tr>\n",
       "    <tr>\n",
       "      <th>1455</th>\n",
       "      <td>854</td>\n",
       "      <td>15</td>\n",
       "      <td>11816 days 00:22:34</td>\n",
       "      <td>11816</td>\n",
       "      <td>0.0</td>\n",
       "    </tr>\n",
       "    <tr>\n",
       "      <th>1444</th>\n",
       "      <td>1318</td>\n",
       "      <td>16</td>\n",
       "      <td>11786 days 21:33:27</td>\n",
       "      <td>11786</td>\n",
       "      <td>0.0</td>\n",
       "    </tr>\n",
       "    <tr>\n",
       "      <th>1319</th>\n",
       "      <td>924</td>\n",
       "      <td>30</td>\n",
       "      <td>11746 days 02:14:32</td>\n",
       "      <td>11746</td>\n",
       "      <td>0.0</td>\n",
       "    </tr>\n",
       "    <tr>\n",
       "      <th>1520</th>\n",
       "      <td>1183</td>\n",
       "      <td>7</td>\n",
       "      <td>11677 days 03:15:19</td>\n",
       "      <td>11677</td>\n",
       "      <td>0.0</td>\n",
       "    </tr>\n",
       "    <tr>\n",
       "      <th>1399</th>\n",
       "      <td>423</td>\n",
       "      <td>21</td>\n",
       "      <td>11669 days 21:01:12</td>\n",
       "      <td>11669</td>\n",
       "      <td>0.0</td>\n",
       "    </tr>\n",
       "  </tbody>\n",
       "</table>\n",
       "</div>"
      ],
      "text/plain": [
       "      user_id  counts       active_period  active_day  tag_per_day\n",
       "1069     1405      59 13864 days 01:15:08       13864          0.0\n",
       "1269      222      34 13575 days 01:09:52       13575          0.0\n",
       "1495      422      10 13494 days 22:51:14       13494          0.0\n",
       "1459     1524      15 13328 days 21:09:06       13328          0.0\n",
       "1558       17       3 13296 days 03:08:17       13296          0.0\n",
       "1487      534      11 13250 days 22:53:15       13250          0.0\n",
       "1518      655       7 12875 days 01:19:49       12875          0.0\n",
       "1212      468      42 12631 days 02:14:46       12631          0.0\n",
       "1501      476       9 12561 days 02:34:05       12561          0.0\n",
       "1403      159      21 12368 days 23:39:11       12368          0.0\n",
       "1474     1416      13 12267 days 02:47:05       12267          0.0\n",
       "1531      190       6 12200 days 00:50:45       12200          0.0\n",
       "1529      226       6 12159 days 23:26:40       12159          0.0\n",
       "1519      409       7 12133 days 04:38:21       12133          0.0\n",
       "1530      180       6 11824 days 04:20:47       11824          0.0\n",
       "1455      854      15 11816 days 00:22:34       11816          0.0\n",
       "1444     1318      16 11786 days 21:33:27       11786          0.0\n",
       "1319      924      30 11746 days 02:14:32       11746          0.0\n",
       "1520     1183       7 11677 days 03:15:19       11677          0.0\n",
       "1399      423      21 11669 days 21:01:12       11669          0.0"
      ]
     },
     "execution_count": 108,
     "metadata": {},
     "output_type": "execute_result"
    }
   ],
   "source": [
    "d.sort_values(['active_day'], ascending = False).head(20)"
   ]
  },
  {
   "cell_type": "markdown",
   "metadata": {},
   "source": [
    "### 3.4 Find the most popular restaurants\n",
    "\n",
    "For the final step, we will find the most popular restaurant based on the same reasoning as part 2: the most tagged restaurant. "
   ]
  },
  {
   "cell_type": "code",
   "execution_count": 130,
   "metadata": {},
   "outputs": [
    {
     "name": "stderr",
     "output_type": "stream",
     "text": [
      "/Users/diyangwu/anaconda3/lib/python3.6/site-packages/ipykernel_launcher.py:5: FutureWarning: using a dict on a Series for aggregation\n",
      "is deprecated and will be removed in a future version\n",
      "  \"\"\"\n"
     ]
    },
    {
     "data": {
      "text/html": [
       "<div>\n",
       "<style scoped>\n",
       "    .dataframe tbody tr th:only-of-type {\n",
       "        vertical-align: middle;\n",
       "    }\n",
       "\n",
       "    .dataframe tbody tr th {\n",
       "        vertical-align: top;\n",
       "    }\n",
       "\n",
       "    .dataframe thead th {\n",
       "        text-align: right;\n",
       "    }\n",
       "</style>\n",
       "<table border=\"1\" class=\"dataframe\">\n",
       "  <thead>\n",
       "    <tr style=\"text-align: right;\">\n",
       "      <th></th>\n",
       "      <th></th>\n",
       "      <th>place_id</th>\n",
       "      <th>tag</th>\n",
       "    </tr>\n",
       "    <tr>\n",
       "      <th>postal_code</th>\n",
       "      <th></th>\n",
       "      <th></th>\n",
       "      <th></th>\n",
       "    </tr>\n",
       "  </thead>\n",
       "  <tbody>\n",
       "    <tr>\n",
       "      <th>NW5</th>\n",
       "      <th>2</th>\n",
       "      <td>e4074710-967d-42c7-813c-23f16e6dda0d</td>\n",
       "      <td>199</td>\n",
       "    </tr>\n",
       "    <tr>\n",
       "      <th>SE22</th>\n",
       "      <th>4</th>\n",
       "      <td>a33cbc9b-8fe3-4984-b6be-de67ea855f81</td>\n",
       "      <td>32086</td>\n",
       "    </tr>\n",
       "    <tr>\n",
       "      <th>SW14</th>\n",
       "      <th>34</th>\n",
       "      <td>990af278-006c-419c-abc1-6efa45c60f38</td>\n",
       "      <td>4533</td>\n",
       "    </tr>\n",
       "    <tr>\n",
       "      <th>SW15</th>\n",
       "      <th>75</th>\n",
       "      <td>a336dff1-5982-49a6-a70f-8abb47714d7f</td>\n",
       "      <td>4039</td>\n",
       "    </tr>\n",
       "    <tr>\n",
       "      <th>SW4</th>\n",
       "      <th>85</th>\n",
       "      <td>0cd46109-3647-4e76-aad4-e7e19e72172b</td>\n",
       "      <td>19392</td>\n",
       "    </tr>\n",
       "    <tr>\n",
       "      <th>W11</th>\n",
       "      <th>90</th>\n",
       "      <td>2b2b7930-e0ab-4163-b91f-fc49aada8947</td>\n",
       "      <td>6890</td>\n",
       "    </tr>\n",
       "    <tr>\n",
       "      <th>W8</th>\n",
       "      <th>105</th>\n",
       "      <td>96a5b372-590a-4ec3-80ce-7350eaa690ac</td>\n",
       "      <td>164</td>\n",
       "    </tr>\n",
       "  </tbody>\n",
       "</table>\n",
       "</div>"
      ],
      "text/plain": [
       "                                             place_id    tag\n",
       "postal_code                                                 \n",
       "NW5         2    e4074710-967d-42c7-813c-23f16e6dda0d    199\n",
       "SE22        4    a33cbc9b-8fe3-4984-b6be-de67ea855f81  32086\n",
       "SW14        34   990af278-006c-419c-abc1-6efa45c60f38   4533\n",
       "SW15        75   a336dff1-5982-49a6-a70f-8abb47714d7f   4039\n",
       "SW4         85   0cd46109-3647-4e76-aad4-e7e19e72172b  19392\n",
       "W11         90   2b2b7930-e0ab-4163-b91f-fc49aada8947   6890\n",
       "W8          105  96a5b372-590a-4ec3-80ce-7350eaa690ac    164"
      ]
     },
     "execution_count": 130,
     "metadata": {},
     "output_type": "execute_result"
    }
   ],
   "source": [
    "# 3.4 Find the most popular restaurants\n",
    "# Choose the list of new users in the orginal restaurant df.\n",
    "restaurant_new = pd.merge(restaurant, d, how = 'inner', left_on = 'user_id', right_on = 'user_id')\n",
    "\n",
    "# Calculate the restaurant tags\n",
    "tag_df = restaurant_new.groupby(['postal_code', 'place_id'])['user_id'].agg({'tag':'count'})\n",
    "\n",
    "# Reset the index to not include postal_code and place_id in the index\n",
    "tag_df.reset_index(inplace = True)\n",
    "\n",
    "# Find the restaurant with highest number of user check-ins for each zipcode\n",
    "(tag_df.groupby('postal_code')['place_id', 'tag'].\n",
    "     apply(lambda x: x.sort_values(['tag'], ascending = False).head(1)))"
   ]
  },
  {
   "cell_type": "markdown",
   "metadata": {},
   "source": [
    "## Part 4: Machine Learning on Genetic Data\n",
    "\n",
    "A genetics lab has asked you to build a predictive model of mouse length and weight based on genetic variation.\n",
    "\n",
    "The genetic data is stored in `part4.csv` with each subject as a row, and each genetic variant as a column. The values indicate the number of copies of the genetic variant they have. Since mice have (in general) 2 copies of each of their chromosomes, the numbers will all be 0, 1, or 2.\n",
    "\n",
    "Each subject's length (in mm) and weight (in grams) is in the columns labeled `length` and `weight`. \n",
    "\n",
    "Study the input and output variables, and determine what drives length and weight."
   ]
  },
  {
   "cell_type": "markdown",
   "metadata": {},
   "source": [
    "### Answer\n",
    "\n",
    "Before building a predictive model on mouse's length and weight, we will first investigate the dataset a little bit to determine what pre-processing is better for the later modeling. "
   ]
  },
  {
   "cell_type": "markdown",
   "metadata": {},
   "source": [
    "### 4.1 Read data"
   ]
  },
  {
   "cell_type": "code",
   "execution_count": 11,
   "metadata": {},
   "outputs": [
    {
     "data": {
      "text/html": [
       "<div>\n",
       "<style scoped>\n",
       "    .dataframe tbody tr th:only-of-type {\n",
       "        vertical-align: middle;\n",
       "    }\n",
       "\n",
       "    .dataframe tbody tr th {\n",
       "        vertical-align: top;\n",
       "    }\n",
       "\n",
       "    .dataframe thead th {\n",
       "        text-align: right;\n",
       "    }\n",
       "</style>\n",
       "<table border=\"1\" class=\"dataframe\">\n",
       "  <thead>\n",
       "    <tr style=\"text-align: right;\">\n",
       "      <th></th>\n",
       "      <th>Unnamed: 0</th>\n",
       "      <th>VARIANT_0000</th>\n",
       "      <th>VARIANT_0001</th>\n",
       "      <th>VARIANT_0002</th>\n",
       "      <th>VARIANT_0003</th>\n",
       "      <th>VARIANT_0004</th>\n",
       "      <th>VARIANT_0005</th>\n",
       "      <th>VARIANT_0006</th>\n",
       "      <th>VARIANT_0007</th>\n",
       "      <th>VARIANT_0008</th>\n",
       "      <th>...</th>\n",
       "      <th>VARIANT_4992</th>\n",
       "      <th>VARIANT_4993</th>\n",
       "      <th>VARIANT_4994</th>\n",
       "      <th>VARIANT_4995</th>\n",
       "      <th>VARIANT_4996</th>\n",
       "      <th>VARIANT_4997</th>\n",
       "      <th>VARIANT_4998</th>\n",
       "      <th>VARIANT_4999</th>\n",
       "      <th>length</th>\n",
       "      <th>weight</th>\n",
       "    </tr>\n",
       "  </thead>\n",
       "  <tbody>\n",
       "    <tr>\n",
       "      <th>0</th>\n",
       "      <td>MOUSE_0000</td>\n",
       "      <td>1</td>\n",
       "      <td>0</td>\n",
       "      <td>0</td>\n",
       "      <td>1</td>\n",
       "      <td>1</td>\n",
       "      <td>1</td>\n",
       "      <td>0</td>\n",
       "      <td>0</td>\n",
       "      <td>0</td>\n",
       "      <td>...</td>\n",
       "      <td>0</td>\n",
       "      <td>2</td>\n",
       "      <td>2</td>\n",
       "      <td>2</td>\n",
       "      <td>2</td>\n",
       "      <td>2</td>\n",
       "      <td>2</td>\n",
       "      <td>2</td>\n",
       "      <td>136.074301</td>\n",
       "      <td>128.438643</td>\n",
       "    </tr>\n",
       "    <tr>\n",
       "      <th>1</th>\n",
       "      <td>MOUSE_0001</td>\n",
       "      <td>2</td>\n",
       "      <td>1</td>\n",
       "      <td>2</td>\n",
       "      <td>2</td>\n",
       "      <td>2</td>\n",
       "      <td>2</td>\n",
       "      <td>2</td>\n",
       "      <td>1</td>\n",
       "      <td>1</td>\n",
       "      <td>...</td>\n",
       "      <td>0</td>\n",
       "      <td>2</td>\n",
       "      <td>2</td>\n",
       "      <td>2</td>\n",
       "      <td>2</td>\n",
       "      <td>1</td>\n",
       "      <td>2</td>\n",
       "      <td>2</td>\n",
       "      <td>161.260617</td>\n",
       "      <td>186.424143</td>\n",
       "    </tr>\n",
       "    <tr>\n",
       "      <th>2</th>\n",
       "      <td>MOUSE_0002</td>\n",
       "      <td>1</td>\n",
       "      <td>1</td>\n",
       "      <td>1</td>\n",
       "      <td>2</td>\n",
       "      <td>2</td>\n",
       "      <td>2</td>\n",
       "      <td>2</td>\n",
       "      <td>1</td>\n",
       "      <td>1</td>\n",
       "      <td>...</td>\n",
       "      <td>0</td>\n",
       "      <td>2</td>\n",
       "      <td>0</td>\n",
       "      <td>1</td>\n",
       "      <td>0</td>\n",
       "      <td>0</td>\n",
       "      <td>2</td>\n",
       "      <td>1</td>\n",
       "      <td>159.990246</td>\n",
       "      <td>181.324189</td>\n",
       "    </tr>\n",
       "    <tr>\n",
       "      <th>3</th>\n",
       "      <td>MOUSE_0003</td>\n",
       "      <td>1</td>\n",
       "      <td>0</td>\n",
       "      <td>1</td>\n",
       "      <td>2</td>\n",
       "      <td>2</td>\n",
       "      <td>2</td>\n",
       "      <td>1</td>\n",
       "      <td>0</td>\n",
       "      <td>0</td>\n",
       "      <td>...</td>\n",
       "      <td>0</td>\n",
       "      <td>2</td>\n",
       "      <td>2</td>\n",
       "      <td>2</td>\n",
       "      <td>1</td>\n",
       "      <td>1</td>\n",
       "      <td>2</td>\n",
       "      <td>2</td>\n",
       "      <td>149.228515</td>\n",
       "      <td>135.048101</td>\n",
       "    </tr>\n",
       "    <tr>\n",
       "      <th>4</th>\n",
       "      <td>MOUSE_0004</td>\n",
       "      <td>1</td>\n",
       "      <td>0</td>\n",
       "      <td>1</td>\n",
       "      <td>2</td>\n",
       "      <td>2</td>\n",
       "      <td>2</td>\n",
       "      <td>1</td>\n",
       "      <td>0</td>\n",
       "      <td>1</td>\n",
       "      <td>...</td>\n",
       "      <td>0</td>\n",
       "      <td>2</td>\n",
       "      <td>2</td>\n",
       "      <td>2</td>\n",
       "      <td>1</td>\n",
       "      <td>1</td>\n",
       "      <td>2</td>\n",
       "      <td>1</td>\n",
       "      <td>161.894435</td>\n",
       "      <td>146.067569</td>\n",
       "    </tr>\n",
       "  </tbody>\n",
       "</table>\n",
       "<p>5 rows × 5003 columns</p>\n",
       "</div>"
      ],
      "text/plain": [
       "   Unnamed: 0  VARIANT_0000  VARIANT_0001  VARIANT_0002  VARIANT_0003  \\\n",
       "0  MOUSE_0000             1             0             0             1   \n",
       "1  MOUSE_0001             2             1             2             2   \n",
       "2  MOUSE_0002             1             1             1             2   \n",
       "3  MOUSE_0003             1             0             1             2   \n",
       "4  MOUSE_0004             1             0             1             2   \n",
       "\n",
       "   VARIANT_0004  VARIANT_0005  VARIANT_0006  VARIANT_0007  VARIANT_0008  \\\n",
       "0             1             1             0             0             0   \n",
       "1             2             2             2             1             1   \n",
       "2             2             2             2             1             1   \n",
       "3             2             2             1             0             0   \n",
       "4             2             2             1             0             1   \n",
       "\n",
       "      ...      VARIANT_4992  VARIANT_4993  VARIANT_4994  VARIANT_4995  \\\n",
       "0     ...                 0             2             2             2   \n",
       "1     ...                 0             2             2             2   \n",
       "2     ...                 0             2             0             1   \n",
       "3     ...                 0             2             2             2   \n",
       "4     ...                 0             2             2             2   \n",
       "\n",
       "   VARIANT_4996  VARIANT_4997  VARIANT_4998  VARIANT_4999      length  \\\n",
       "0             2             2             2             2  136.074301   \n",
       "1             2             1             2             2  161.260617   \n",
       "2             0             0             2             1  159.990246   \n",
       "3             1             1             2             2  149.228515   \n",
       "4             1             1             2             1  161.894435   \n",
       "\n",
       "       weight  \n",
       "0  128.438643  \n",
       "1  186.424143  \n",
       "2  181.324189  \n",
       "3  135.048101  \n",
       "4  146.067569  \n",
       "\n",
       "[5 rows x 5003 columns]"
      ]
     },
     "execution_count": 11,
     "metadata": {},
     "output_type": "execute_result"
    }
   ],
   "source": [
    "# 4.1 Read data:\n",
    "mouse = pd.read_csv('coding_exercise_data/part4.csv')\n",
    "mouse.head()"
   ]
  },
  {
   "cell_type": "code",
   "execution_count": 12,
   "metadata": {},
   "outputs": [
    {
     "data": {
      "text/plain": [
       "(3000, 5003)"
      ]
     },
     "execution_count": 12,
     "metadata": {},
     "output_type": "execute_result"
    }
   ],
   "source": [
    "mouse.shape"
   ]
  },
  {
   "cell_type": "markdown",
   "metadata": {},
   "source": [
    "Immediately we see the problem about this dataset. The number of observations/mice is 3000, but the number of genetic variants is roughly 5000. It is typically a huge problem in machine learning that the number of features exceeds the number of observations, which is the so-called curse of dimensionality.\n",
    "\n",
    "To solve this problem, we either need to do variable elimination or variable extraction. Considering the fact that we are given little information about the internal logic of genetic variants, it is probably not a good idea to try to extract the derived features from the original features. Thus we need to find a way to eliminate some of the not so significant features and thus reduce our dimensionality. \n",
    "\n",
    "One method is using Principal Component Analysis(PCA). In short, PCA projects the original data from a high dimension to a lower dimension, while maintaining the maximum amount of variance of the original data. Hopefully after the PCA transformation, the dataset will become more workable."
   ]
  },
  {
   "cell_type": "markdown",
   "metadata": {},
   "source": [
    "### 4.2 Data pre-processing"
   ]
  },
  {
   "cell_type": "code",
   "execution_count": 156,
   "metadata": {},
   "outputs": [],
   "source": [
    "# 4.2 Data pre-processing and PCA\n",
    "# Extract X and y\n",
    "# Need to separately treat length and weight variables\n",
    "X = np.array(mouse.iloc[:, 1:(mouse.shape[1] - 2)].values)\n",
    "\n",
    "# Outcome variable for length\n",
    "y_len = np.array(mouse.iloc[:, (mouse.shape[1] - 2)].values)\n",
    "# Outcome variable for weight\n",
    "y_wei = np.array(mouse.iloc[:, (mouse.shape[1] - 1)].values)\n",
    "\n",
    "# Split the training and test set\n",
    "Xtr_len, Xts_len, ytr_len, yts_len = train_test_split(X, y_len, test_size = 0.2, shuffle=True, random_state = 0)\n",
    "Xtr_wei, Xts_wei, ytr_wei, yts_wei = train_test_split(X, y_wei, test_size = 0.2, shuffle=True, random_state = 1)\n",
    "\n",
    "# Standardized Xtr for PCA\n",
    "def standardize(xtr, xts):\n",
    "    scaler = StandardScaler()\n",
    "    scaler.fit(xtr)\n",
    "    xtr_scale = scaler.transform(xtr)\n",
    "    xts_scale = scaler.transform(xts)\n",
    "    return xtr_scale, xts_scale\n",
    "\n",
    "Xtr_len_scale, Xts_len_scale = standardize(Xtr_len, Xts_len)\n",
    "Xtr_wei_scale, Xts_wei_scale = standardize(Xtr_wei, Xts_wei)"
   ]
  },
  {
   "cell_type": "code",
   "execution_count": 16,
   "metadata": {},
   "outputs": [
    {
     "data": {
      "text/plain": [
       "Text(0,0.5,'cumulative explained variance')"
      ]
     },
     "execution_count": 16,
     "metadata": {},
     "output_type": "execute_result"
    },
    {
     "data": {
      "image/png": "[encoded data removed]",
      "text/plain": [
       "<Figure size 432x288 with 1 Axes>"
      ]
     },
     "metadata": {},
     "output_type": "display_data"
    }
   ],
   "source": [
    "# fit PCA to Xtr; make graphs to show proportion of variance captured\n",
    "\n",
    "pca = PCA().fit(Xtr_len_scale)\n",
    "plt.plot(np.cumsum(pca.explained_variance_ratio_))\n",
    "plt.xlabel('number of components')\n",
    "plt.ylabel('cumulative explained variance')"
   ]
  },
  {
   "cell_type": "markdown",
   "metadata": {},
   "source": [
    "Above is a graph to represent number of components vs. explained variance tradeoff. In general, it's true that the more variance you want to capture, the more components you have to include in the model. Thus we should find a cut-off point where a decent amount of variance will be explained and the number of components is also reduced."
   ]
  },
  {
   "cell_type": "code",
   "execution_count": 490,
   "metadata": {},
   "outputs": [
    {
     "data": {
      "text/plain": [
       "176"
      ]
     },
     "execution_count": 490,
     "metadata": {},
     "output_type": "execute_result"
    }
   ],
   "source": [
    "pca = PCA(0.6).fit(Xtr_scale)\n",
    "pca.n_components_"
   ]
  },
  {
   "cell_type": "markdown",
   "metadata": {},
   "source": [
    "If we choose 60% of variance to be explained, 176 variables will be included. This seems workable."
   ]
  },
  {
   "cell_type": "code",
   "execution_count": 153,
   "metadata": {},
   "outputs": [],
   "source": [
    "# fit PCA to both Xtr and Xts\n",
    "# helper function to use PCA transformation\n",
    "def pcatransform(xtr, xts):\n",
    "    pca = PCA(0.6)\n",
    "    pca.fit(xtr)\n",
    "    xtr_pca = pca.transform(xtr)\n",
    "    xts_pca = pca.transform(xts)\n",
    "    return xtr_pca, xts_pca\n",
    "\n",
    "Xtr_len_pca, Xts_len_pca = pcatransform(Xtr_len_scale, Xts_len_scale)\n",
    "Xtr_wei_pca, Xts_wei_pca = pcatransform(Xtr_wei_scale, Xts_wei_scale)"
   ]
  },
  {
   "cell_type": "markdown",
   "metadata": {},
   "source": [
    "### 4.3 Model building: Linear Regression\n",
    "\n",
    "After using PCA to transform our data, it is time to fit our newly generated low_dimensional data to a model.\n",
    "\n",
    "The first model we try here is a linear regression. Although it is an extremely simple model compared to the other state-of-the-art techniques, linear regression can offer some easy and interpretable results. Thus it is always not bad to start from this model.\n",
    "\n",
    "The metrics we will be using for this regresison problem is $R^2$ score. In short, $R^2$ measures how much of the relationship between your X variable and y variable is explained by your model estimation, versus estimating y variable using its mean. $R^2$ ranges from 0 to 1; if it's close to 1, it means your model fits the data well; if it's close to 0, it means your model is similar to just estimating y variable with its mean. "
   ]
  },
  {
   "cell_type": "code",
   "execution_count": 154,
   "metadata": {},
   "outputs": [
    {
     "data": {
      "text/plain": [
       "0.40080449280438923"
      ]
     },
     "execution_count": 154,
     "metadata": {},
     "output_type": "execute_result"
    }
   ],
   "source": [
    "# 4.3 Model building: Linear Regression\n",
    "# Prediciting length\n",
    "lr = LinearRegression()\n",
    "lr.fit(Xtr_len_pca, ytr_len)\n",
    "lr.score(Xts_len_pca, yts_len)"
   ]
  },
  {
   "cell_type": "code",
   "execution_count": 155,
   "metadata": {},
   "outputs": [
    {
     "data": {
      "text/plain": [
       "0.1444733949453746"
      ]
     },
     "execution_count": 155,
     "metadata": {},
     "output_type": "execute_result"
    }
   ],
   "source": [
    "# Predicting weight\n",
    "lr.fit(Xtr_wei_pca, ytr_wei)\n",
    "lr.score(Xts_wei_pca, yts_wei)"
   ]
  },
  {
   "cell_type": "markdown",
   "metadata": {},
   "source": [
    "As we see, the results from a linear regression is not that impressive, especially for predicting the `weight` variable with the $R^2$ being 0.14. Perhaps the inherent relationship between the genetic variants to the mice's lengths and weights are not linear. Thus we need to switch to another model."
   ]
  },
  {
   "cell_type": "markdown",
   "metadata": {},
   "source": [
    "### 4.4 Model building: Random Forest\n",
    "\n",
    "One of the hottest machine learning algorithms in industry nowadays is Random Forest. This is a tree-based algorithm, where in the forest every tree sees a subset of features, uses a sample of the original data, and makes its own decision. The final outcome of the Random  Forest regression will be the average of every tree. \n",
    "\n",
    "I choose to use this model here because Random Forest is not bothered as much encountering high-dimensional data as other models. For this model I will use method of Random Search to tune the hyperparameters of random forest, and print out the best model result with a set of hyperparameters."
   ]
  },
  {
   "cell_type": "code",
   "execution_count": 157,
   "metadata": {},
   "outputs": [],
   "source": [
    "# 4.4 Model building: Random Forest combined with Random Search\n",
    "# helper function for printing out search results \n",
    "def print_random_search_metrics(rs):\n",
    "    print (\"Best score: %0.3f\" % rs.best_score_)\n",
    "    print (\"Best parameters set:\")\n",
    "    best_parameters = rs.best_params_\n",
    "    for param_name in sorted(parameters.keys()):\n",
    "        print(\"\\t%s: %s\" % (param_name, best_parameters[param_name]))"
   ]
  },
  {
   "cell_type": "code",
   "execution_count": 26,
   "metadata": {},
   "outputs": [
    {
     "data": {
      "text/plain": [
       "RandomizedSearchCV(cv=5, error_score='raise-deprecating',\n",
       "                   estimator=RandomForestRegressor(bootstrap=True,\n",
       "                                                   criterion='mse',\n",
       "                                                   max_depth=None,\n",
       "                                                   max_features='auto',\n",
       "                                                   max_leaf_nodes=None,\n",
       "                                                   min_impurity_decrease=0.0,\n",
       "                                                   min_impurity_split=None,\n",
       "                                                   min_samples_leaf=1,\n",
       "                                                   min_samples_split=2,\n",
       "                                                   min_weight_fraction_leaf=0.0,\n",
       "                                                   n_estimators='warn',\n",
       "                                                   n_jobs=None, oob_score=False,\n",
       "                                                   random_state=None, verbose=0,\n",
       "                                                   warm_start=False),\n",
       "                   iid='warn', n_iter=10, n_jobs=None,\n",
       "                   param_distributions={'max_features': ['auto', 'sqrt',\n",
       "                                                         'log2'],\n",
       "                                        'min_samples_leaf': [1, 10, 50, 100],\n",
       "                                        'n_estimators': [80, 90]},\n",
       "                   pre_dispatch='2*n_jobs', random_state=None, refit=True,\n",
       "                   return_train_score=False, scoring=None, verbose=0)"
      ]
     },
     "execution_count": 26,
     "metadata": {},
     "output_type": "execute_result"
    }
   ],
   "source": [
    "# Possible hyperparamter options for Random Forest\n",
    "parameters = {\n",
    "    'n_estimators' : [80,90],\n",
    "    'max_features' : ['auto','sqrt','log2'],\n",
    "    'min_samples_leaf' : [1,10,50,100]\n",
    "}\n",
    "\n",
    "# Using Random Search to find the best hyperparameters for Random Forest regression\n",
    "Random_RF = RandomizedSearchCV(RandomForestRegressor(),parameters, cv=5)\n",
    "Random_RF.fit(Xtr_len_pca, ytr_len)"
   ]
  },
  {
   "cell_type": "code",
   "execution_count": 27,
   "metadata": {},
   "outputs": [
    {
     "name": "stdout",
     "output_type": "stream",
     "text": [
      "Best score: 0.270\n",
      "Best parameters set:\n",
      "\tmax_features: auto\n",
      "\tmin_samples_leaf: 10\n",
      "\tn_estimators: 80\n"
     ]
    }
   ],
   "source": [
    "# Model result\n",
    "print_random_search_metrics(Random_RF)"
   ]
  },
  {
   "cell_type": "markdown",
   "metadata": {},
   "source": [
    "$R^2$ for just training data and with best hyperparameter under Random Forest regression is only 0.27, even worse than the previous linear regression. \n",
    "\n",
    "At this point, we should ask ourselves, instead of changing other models to fit in our data, should we redirect our strategies? Maybe the idea of using PCA to reduce the dimensionality is not appropriate in the first place. \n",
    "\n",
    "Although every genetic variant, our x variable, is continuous, the variance of it is not much because each variable only contains three values. However, the whole point of using PCA is to capture the maximum variance of the original data. Maybe the data after PCA transformation is not representitive of the original data at all beacause there is not much of variance to be captured. Maybe it's the case that other latent features in our x variable are crucial in predicting length and weight, but somehow were lost after PCA transformation."
   ]
  },
  {
   "cell_type": "markdown",
   "metadata": {},
   "source": [
    "### 4.5 Model building: Lasso Regression\n",
    "\n",
    "The other technique we can try for dimensionality reduction is regularization. This method forces to shrink the coefficients of x variables by adding a penalty term in the loss function. In other words, regularization will make the coefficients of insignificant variables to be close to 0, and thus filtering out them. \n",
    "\n",
    "For this problem, we will use the Lasso regression as the regularization technique. Be mindful that, in the later code we fit Lasso regression with different penalty coefficients. Generally, the higher the penalty coefficients, the more restricted/less variables left in the model. The model results will be graphed."
   ]
  },
  {
   "cell_type": "code",
   "execution_count": 47,
   "metadata": {},
   "outputs": [],
   "source": [
    "# 4.5 Model building: Lasso Regression\n",
    "# helper function to fit lasso regresison with different alpha\n",
    "# make graphs of the results \n",
    "def lassoregression(Xtr, ytr, Xts, yts):\n",
    "    alpha = np.linspace(0.1, 1, 10)\n",
    "    train_score = []\n",
    "    test_score = []\n",
    "    for i in range(10):\n",
    "        ls = Lasso(alpha = alpha[i], max_iter = 10000, tol = 1e-10)\n",
    "        ls.fit(Xtr, ytr)\n",
    "        train_score = np.append(train_score, ls.score(Xtr, ytr))\n",
    "        test_score = np.append(test_score, ls.score(Xts, yts))\n",
    "    plt.figure(figsize=(9,5))\n",
    "    plt.scatter(alpha,train_score,label='train_score')\n",
    "    plt.plot(alpha,train_score)\n",
    "    plt.scatter(alpha,test_score,label='test_score')\n",
    "    plt.plot(alpha,test_score)\n",
    "    plt.ylim((min(test_score) - 0.1),1)\n",
    "    plt.xlim(0,1.1)\n",
    "    plt.xlabel('alpha', size = 14)\n",
    "    plt.ylabel('score',size = 14)\n",
    "    plt.legend()\n",
    "    plt.show()    "
   ]
  },
  {
   "cell_type": "code",
   "execution_count": 48,
   "metadata": {},
   "outputs": [
    {
     "data": {
      "image/png": "[encoded data removed]",
      "text/plain": [
       "<Figure size 648x360 with 1 Axes>"
      ]
     },
     "metadata": {},
     "output_type": "display_data"
    }
   ],
   "source": [
    "# predicting length\n",
    "lassoregression(Xtr_len, ytr_len, Xts_len, yts_len)"
   ]
  },
  {
   "cell_type": "code",
   "execution_count": 49,
   "metadata": {},
   "outputs": [
    {
     "name": "stderr",
     "output_type": "stream",
     "text": [
      "/Users/diyangwu/anaconda3/lib/python3.6/site-packages/sklearn/linear_model/coordinate_descent.py:475: ConvergenceWarning: Objective did not converge. You might want to increase the number of iterations. Duality gap: 22.651188168674707, tolerance: 0.00016349361710662585\n",
      "  positive)\n"
     ]
    },
    {
     "data": {
      "image/png": "[encoded data removed]",
      "text/plain": [
       "<Figure size 648x360 with 1 Axes>"
      ]
     },
     "metadata": {},
     "output_type": "display_data"
    }
   ],
   "source": [
    "# predicting weight\n",
    "lassoregression(Xtr_wei, ytr_wei, Xts_wei, yts_wei)"
   ]
  },
  {
   "cell_type": "markdown",
   "metadata": {},
   "source": [
    "As we see from above, surprisingly a simple Lasso regression boosts our $R^2$ for predicting `length` variable to around 0.85, more than doubled to the linear regression. The performance of predicting `weight` variable is not as good, with a $R^2$ variable being around 0.4. However, it's still better than dealing with PCA data."
   ]
  },
  {
   "cell_type": "markdown",
   "metadata": {},
   "source": [
    "###  4.6 Model Interpretation"
   ]
  },
  {
   "cell_type": "code",
   "execution_count": 163,
   "metadata": {},
   "outputs": [],
   "source": [
    "# 4.6 Model intepretation\n",
    "# Helper function to print results of best model performance with appropriate alpha\n",
    "def printlasso(Xtr, ytr, Xts, yts, alpha):\n",
    "    ls = Lasso(alpha = alpha)\n",
    "    ls.fit(Xtr, ytr)\n",
    "    train_score = ls.score(Xtr, ytr)\n",
    "    test_score = ls.score(Xts, yts)\n",
    "    important_feature = np.where(ls.coef_ != 0)\n",
    "    print('The results for lasso regression under alpha level {}:'.format(alpha))\n",
    "    print('The train score is {}'.format(train_score))\n",
    "    print('The train score is {}'.format(test_score))\n",
    "    print('The list of significant genetic variants number is %s' % important_feature)"
   ]
  },
  {
   "cell_type": "code",
   "execution_count": 164,
   "metadata": {},
   "outputs": [
    {
     "name": "stdout",
     "output_type": "stream",
     "text": [
      "The results for lasso regression under alpha level 0.2:\n",
      "The train score is 0.8461380347169623\n",
      "The train score is 0.838456691440833\n",
      "The list of significant genetic variants number is [  25   39 1029 1146 1945 1999 2022 2182 2209 2222 2401 2892 2918 3199\n",
      " 3224 3339 3692 3914 4101 4256 4345 4681 4719 4733 4746 4848 4880 4923\n",
      " 4957 4986]\n"
     ]
    }
   ],
   "source": [
    "# Predicting length\n",
    "printlasso(Xtr_len, ytr_len, Xts_len, yts_len, 0.2)"
   ]
  },
  {
   "cell_type": "code",
   "execution_count": 165,
   "metadata": {},
   "outputs": [
    {
     "name": "stdout",
     "output_type": "stream",
     "text": [
      "The results for lasso regression under alpha level 0.6:\n",
      "The train score is 0.387043063889412\n",
      "The train score is 0.35570888252278704\n",
      "The list of significant genetic variants number is [  25   72   94  240  338  352  438  586  628  698  898  902  941 1146\n",
      " 1150 1217 1407 1444 1574 1618 1699 1753 1797 1939 1945 1977 1999 2388\n",
      " 2495 2612 2664 3153 3210 3397 3432 3569 3601 3641 3659 3688 3692 3704\n",
      " 3733 3755 3780 3808 3823 3826 3893 3914 3970 4021 4101 4136 4383 4437\n",
      " 4451 4495 4554 4632 4646 4697 4728 4857 4880 4956]\n"
     ]
    }
   ],
   "source": [
    "# Predicting weight\n",
    "printlasso(Xtr_wei, ytr_wei, Xts_wei, yts_wei, 0.6)"
   ]
  },
  {
   "cell_type": "markdown",
   "metadata": {},
   "source": [
    "As we see from above, the model performances as well as the list of significant variables(with coefficient not being 0) are printed. Performance of predicting length is really good considering Lasso regression is a relativelt simple model, with both training and test $R^2$ being more than 0.8. The performance of predicting weight is not as good with $R^2$ being around 0.35. \n",
    "\n",
    "One key question for this problem is what drives the mice's length and weight. Here we provide the list of statistically significant genetic variants output from this model. However, despite the good model performance, those variables filtered from our regression are only potentially important as they are recognized not as 0 importance of predicting the outcomes. The actual relationship between genetic variants and outcomes need to be further investigated based on rigourous biological and genetic studies. This list only serves to provide some insights to the researchers, instead of determining 'what drives outcomes'.\n",
    "\n",
    "Another thing to be noticed is that the model performance of predicting `weight` is consistently lower than predicting `length` in both modeling setups. This might suggest a finding that, genetic variant effects length more than it does  to weight. There are probably more outside factors such as diet and environments to influence the mice's weight, whereas length is less volatile due to those factors. But again, these are only assumptions made based on our model output. The real mechanism behind the data should be rigorously studied by researchers."
   ]
  }
 ],
 "metadata": {
  "kernelspec": {
   "display_name": "Python 3",
   "language": "python",
   "name": "python3"
  },
  "language_info": {
   "codemirror_mode": {
    "name": "ipython",
    "version": 3
   },
   "file_extension": ".py",
   "mimetype": "text/x-python",
   "name": "python",
   "nbconvert_exporter": "python",
   "pygments_lexer": "ipython3",
   "version": "3.6.5"
  }
 },
 "nbformat": 4,
 "nbformat_minor": 2
}
